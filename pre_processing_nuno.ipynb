{
 "cells": [
  {
   "cell_type": "code",
   "execution_count": 2,
   "metadata": {},
   "outputs": [],
   "source": [
    "library(tidyverse)\n",
    "df <- read.csv(\"C:/Users/nuno.costa/Desktop/Chicago_Crimes_2001_to_2004.csv\",\n",
    "              nrows=3000)"
   ]
  },
  {
   "cell_type": "code",
   "execution_count": 7,
   "metadata": {},
   "outputs": [
    {
     "data": {
      "text/html": [
       "<table>\n",
       "<caption>A data.frame: 4 × 23</caption>\n",
       "<thead>\n",
       "\t<tr><th scope=col>X</th><th scope=col>ID</th><th scope=col>Case.Number</th><th scope=col>Date</th><th scope=col>Block</th><th scope=col>IUCR</th><th scope=col>Primary.Type</th><th scope=col>Description</th><th scope=col>Location.Description</th><th scope=col>Arrest</th><th scope=col>...</th><th scope=col>Ward</th><th scope=col>Community.Area</th><th scope=col>FBI.Code</th><th scope=col>X.Coordinate</th><th scope=col>Y.Coordinate</th><th scope=col>Year</th><th scope=col>Updated.On</th><th scope=col>Latitude</th><th scope=col>Longitude</th><th scope=col>Location</th></tr>\n",
       "\t<tr><th scope=col>&lt;int&gt;</th><th scope=col>&lt;int&gt;</th><th scope=col>&lt;fct&gt;</th><th scope=col>&lt;fct&gt;</th><th scope=col>&lt;fct&gt;</th><th scope=col>&lt;fct&gt;</th><th scope=col>&lt;fct&gt;</th><th scope=col>&lt;fct&gt;</th><th scope=col>&lt;fct&gt;</th><th scope=col>&lt;fct&gt;</th><th scope=col>...</th><th scope=col>&lt;dbl&gt;</th><th scope=col>&lt;dbl&gt;</th><th scope=col>&lt;fct&gt;</th><th scope=col>&lt;dbl&gt;</th><th scope=col>&lt;dbl&gt;</th><th scope=col>&lt;int&gt;</th><th scope=col>&lt;fct&gt;</th><th scope=col>&lt;dbl&gt;</th><th scope=col>&lt;dbl&gt;</th><th scope=col>&lt;fct&gt;</th></tr>\n",
       "</thead>\n",
       "<tbody>\n",
       "\t<tr><td> 879</td><td>4786321</td><td>HM399414</td><td>01/01/2004 12:01:00 AM</td><td>082XX S COLES AVE  </td><td>0840</td><td>THEFT                     </td><td>FINANCIAL ID THEFT: OVER $300</td><td>RESIDENCE</td><td>False</td><td>...</td><td> 7</td><td>46</td><td>06</td><td>     NA</td><td>     NA</td><td>2004</td><td>08/17/2015 03:03:40 PM</td><td>      NA</td><td>       NA</td><td>                             </td></tr>\n",
       "\t<tr><td>2544</td><td>4676906</td><td>HM278933</td><td>03/01/2003 12:00:00 AM</td><td>004XX W 42ND PL    </td><td>2825</td><td>OTHER OFFENSE             </td><td>HARASSMENT BY TELEPHONE      </td><td>RESIDENCE</td><td>False</td><td>...</td><td>11</td><td>61</td><td>26</td><td>1173974</td><td>1876757</td><td>2003</td><td>04/15/2016 08:55:02 AM</td><td>41.81723</td><td>-87.63733</td><td>(41.817229156, -87.637328162)</td></tr>\n",
       "\t<tr><td>2919</td><td>4789749</td><td>HM402220</td><td>06/20/2004 11:00:00 AM</td><td>025XX N KIMBALL AVE</td><td>1752</td><td>OFFENSE INVOLVING CHILDREN</td><td>AGG CRIM SEX ABUSE FAM MEMBER</td><td>RESIDENCE</td><td>False</td><td>...</td><td>35</td><td>22</td><td>20</td><td>     NA</td><td>     NA</td><td>2004</td><td>08/17/2015 03:03:40 PM</td><td>      NA</td><td>       NA</td><td>                             </td></tr>\n",
       "\t<tr><td>2927</td><td>4789765</td><td>HM402058</td><td>12/30/2004 08:00:00 PM</td><td>045XX W MONTANA ST </td><td>0840</td><td>THEFT                     </td><td>FINANCIAL ID THEFT: OVER $300</td><td>OTHER    </td><td>False</td><td>...</td><td>31</td><td>20</td><td>06</td><td>     NA</td><td>     NA</td><td>2004</td><td>08/17/2015 03:03:40 PM</td><td>      NA</td><td>       NA</td><td>                             </td></tr>\n",
       "</tbody>\n",
       "</table>\n"
      ],
      "text/latex": [
       "A data.frame: 4 × 23\n",
       "\\begin{tabular}{r|lllllllllllllllllllllll}\n",
       " X & ID & Case.Number & Date & Block & IUCR & Primary.Type & Description & Location.Description & Arrest & Domestic & Beat & District & Ward & Community.Area & FBI.Code & X.Coordinate & Y.Coordinate & Year & Updated.On & Latitude & Longitude & Location\\\\\n",
       " <int> & <int> & <fct> & <fct> & <fct> & <fct> & <fct> & <fct> & <fct> & <fct> & <fct> & <int> & <dbl> & <dbl> & <dbl> & <fct> & <dbl> & <dbl> & <int> & <fct> & <dbl> & <dbl> & <fct>\\\\\n",
       "\\hline\n",
       "\t  879 & 4786321 & HM399414 & 01/01/2004 12:01:00 AM & 082XX S COLES AVE   & 0840 & THEFT                      & FINANCIAL ID THEFT: OVER \\$300 & RESIDENCE & False & False &  424 &  4 &  7 & 46 & 06 &      NA &      NA & 2004 & 08/17/2015 03:03:40 PM &       NA &        NA &                              \\\\\n",
       "\t 2544 & 4676906 & HM278933 & 03/01/2003 12:00:00 AM & 004XX W 42ND PL     & 2825 & OTHER OFFENSE              & HARASSMENT BY TELEPHONE       & RESIDENCE & False & True  &  935 &  9 & 11 & 61 & 26 & 1173974 & 1876757 & 2003 & 04/15/2016 08:55:02 AM & 41.81723 & -87.63733 & (41.817229156, -87.637328162)\\\\\n",
       "\t 2919 & 4789749 & HM402220 & 06/20/2004 11:00:00 AM & 025XX N KIMBALL AVE & 1752 & OFFENSE INVOLVING CHILDREN & AGG CRIM SEX ABUSE FAM MEMBER & RESIDENCE & False & False & 1413 & 14 & 35 & 22 & 20 &      NA &      NA & 2004 & 08/17/2015 03:03:40 PM &       NA &        NA &                              \\\\\n",
       "\t 2927 & 4789765 & HM402058 & 12/30/2004 08:00:00 PM & 045XX W MONTANA ST  & 0840 & THEFT                      & FINANCIAL ID THEFT: OVER \\$300 & OTHER     & False & False & 2521 & 25 & 31 & 20 & 06 &      NA &      NA & 2004 & 08/17/2015 03:03:40 PM &       NA &        NA &                              \\\\\n",
       "\\end{tabular}\n"
      ],
      "text/markdown": [
       "\n",
       "A data.frame: 4 × 23\n",
       "\n",
       "| X &lt;int&gt; | ID &lt;int&gt; | Case.Number &lt;fct&gt; | Date &lt;fct&gt; | Block &lt;fct&gt; | IUCR &lt;fct&gt; | Primary.Type &lt;fct&gt; | Description &lt;fct&gt; | Location.Description &lt;fct&gt; | Arrest &lt;fct&gt; | ... ... | Ward &lt;dbl&gt; | Community.Area &lt;dbl&gt; | FBI.Code &lt;fct&gt; | X.Coordinate &lt;dbl&gt; | Y.Coordinate &lt;dbl&gt; | Year &lt;int&gt; | Updated.On &lt;fct&gt; | Latitude &lt;dbl&gt; | Longitude &lt;dbl&gt; | Location &lt;fct&gt; |\n",
       "|---|---|---|---|---|---|---|---|---|---|---|---|---|---|---|---|---|---|---|---|---|\n",
       "|  879 | 4786321 | HM399414 | 01/01/2004 12:01:00 AM | 082XX S COLES AVE   | 0840 | THEFT                      | FINANCIAL ID THEFT: OVER $300 | RESIDENCE | False | ... |  7 | 46 | 06 |      NA |      NA | 2004 | 08/17/2015 03:03:40 PM |       NA |        NA | <!----> |\n",
       "| 2544 | 4676906 | HM278933 | 03/01/2003 12:00:00 AM | 004XX W 42ND PL     | 2825 | OTHER OFFENSE              | HARASSMENT BY TELEPHONE       | RESIDENCE | False | ... | 11 | 61 | 26 | 1173974 | 1876757 | 2003 | 04/15/2016 08:55:02 AM | 41.81723 | -87.63733 | (41.817229156, -87.637328162) |\n",
       "| 2919 | 4789749 | HM402220 | 06/20/2004 11:00:00 AM | 025XX N KIMBALL AVE | 1752 | OFFENSE INVOLVING CHILDREN | AGG CRIM SEX ABUSE FAM MEMBER | RESIDENCE | False | ... | 35 | 22 | 20 |      NA |      NA | 2004 | 08/17/2015 03:03:40 PM |       NA |        NA | <!----> |\n",
       "| 2927 | 4789765 | HM402058 | 12/30/2004 08:00:00 PM | 045XX W MONTANA ST  | 0840 | THEFT                      | FINANCIAL ID THEFT: OVER $300 | OTHER     | False | ... | 31 | 20 | 06 |      NA |      NA | 2004 | 08/17/2015 03:03:40 PM |       NA |        NA | <!----> |\n",
       "\n"
      ],
      "text/plain": [
       "  X    ID      Case.Number Date                   Block               IUCR\n",
       "1  879 4786321 HM399414    01/01/2004 12:01:00 AM 082XX S COLES AVE   0840\n",
       "2 2544 4676906 HM278933    03/01/2003 12:00:00 AM 004XX W 42ND PL     2825\n",
       "3 2919 4789749 HM402220    06/20/2004 11:00:00 AM 025XX N KIMBALL AVE 1752\n",
       "4 2927 4789765 HM402058    12/30/2004 08:00:00 PM 045XX W MONTANA ST  0840\n",
       "  Primary.Type               Description                   Location.Description\n",
       "1 THEFT                      FINANCIAL ID THEFT: OVER $300 RESIDENCE           \n",
       "2 OTHER OFFENSE              HARASSMENT BY TELEPHONE       RESIDENCE           \n",
       "3 OFFENSE INVOLVING CHILDREN AGG CRIM SEX ABUSE FAM MEMBER RESIDENCE           \n",
       "4 THEFT                      FINANCIAL ID THEFT: OVER $300 OTHER               \n",
       "  Arrest ... Ward Community.Area FBI.Code X.Coordinate Y.Coordinate Year\n",
       "1 False  ...  7   46             06            NA           NA      2004\n",
       "2 False  ... 11   61             26       1173974      1876757      2003\n",
       "3 False  ... 35   22             20            NA           NA      2004\n",
       "4 False  ... 31   20             06            NA           NA      2004\n",
       "  Updated.On             Latitude Longitude Location                     \n",
       "1 08/17/2015 03:03:40 PM       NA        NA                              \n",
       "2 04/15/2016 08:55:02 AM 41.81723 -87.63733 (41.817229156, -87.637328162)\n",
       "3 08/17/2015 03:03:40 PM       NA        NA                              \n",
       "4 08/17/2015 03:03:40 PM       NA        NA                              "
      ]
     },
     "metadata": {},
     "output_type": "display_data"
    }
   ],
   "source": [
    "#summary(mpg)\n",
    "#str(mpg)\n",
    "#data(package=\"ggplot2\")\n",
    "head(df,4)"
   ]
  },
  {
   "cell_type": "code",
   "execution_count": 10,
   "metadata": {},
   "outputs": [
    {
     "data": {
      "text/html": [
       "<table>\n",
       "<caption>A tibble: 234 × 6</caption>\n",
       "<thead>\n",
       "\t<tr><th scope=col>cty</th><th scope=col>hwy</th><th scope=col>fl</th><th scope=col>class</th><th scope=col>cty_l100km</th><th scope=col>hwy_l100lm</th></tr>\n",
       "\t<tr><th scope=col>&lt;int&gt;</th><th scope=col>&lt;int&gt;</th><th scope=col>&lt;chr&gt;</th><th scope=col>&lt;chr&gt;</th><th scope=col>&lt;dbl&gt;</th><th scope=col>&lt;dbl&gt;</th></tr>\n",
       "</thead>\n",
       "<tbody>\n",
       "\t<tr><td>18</td><td>29</td><td>p</td><td>compact</td><td>4233.870</td><td>6821.235</td></tr>\n",
       "\t<tr><td>21</td><td>29</td><td>p</td><td>compact</td><td>4939.515</td><td>6821.235</td></tr>\n",
       "\t<tr><td>20</td><td>31</td><td>p</td><td>compact</td><td>4704.300</td><td>7291.665</td></tr>\n",
       "\t<tr><td>21</td><td>30</td><td>p</td><td>compact</td><td>4939.515</td><td>7056.450</td></tr>\n",
       "\t<tr><td>16</td><td>26</td><td>p</td><td>compact</td><td>3763.440</td><td>6115.590</td></tr>\n",
       "\t<tr><td>18</td><td>26</td><td>p</td><td>compact</td><td>4233.870</td><td>6115.590</td></tr>\n",
       "\t<tr><td>18</td><td>27</td><td>p</td><td>compact</td><td>4233.870</td><td>6350.805</td></tr>\n",
       "\t<tr><td>18</td><td>26</td><td>p</td><td>compact</td><td>4233.870</td><td>6115.590</td></tr>\n",
       "\t<tr><td>16</td><td>25</td><td>p</td><td>compact</td><td>3763.440</td><td>5880.375</td></tr>\n",
       "\t<tr><td>20</td><td>28</td><td>p</td><td>compact</td><td>4704.300</td><td>6586.020</td></tr>\n",
       "\t<tr><td>19</td><td>27</td><td>p</td><td>compact</td><td>4469.085</td><td>6350.805</td></tr>\n",
       "\t<tr><td>15</td><td>25</td><td>p</td><td>compact</td><td>3528.225</td><td>5880.375</td></tr>\n",
       "\t<tr><td>17</td><td>25</td><td>p</td><td>compact</td><td>3998.655</td><td>5880.375</td></tr>\n",
       "\t<tr><td>17</td><td>25</td><td>p</td><td>compact</td><td>3998.655</td><td>5880.375</td></tr>\n",
       "\t<tr><td>15</td><td>25</td><td>p</td><td>compact</td><td>3528.225</td><td>5880.375</td></tr>\n",
       "\t<tr><td>15</td><td>24</td><td>p</td><td>midsize</td><td>3528.225</td><td>5645.160</td></tr>\n",
       "\t<tr><td>17</td><td>25</td><td>p</td><td>midsize</td><td>3998.655</td><td>5880.375</td></tr>\n",
       "\t<tr><td>16</td><td>23</td><td>p</td><td>midsize</td><td>3763.440</td><td>5409.945</td></tr>\n",
       "\t<tr><td>14</td><td>20</td><td>r</td><td>suv    </td><td>3293.010</td><td>4704.300</td></tr>\n",
       "\t<tr><td>11</td><td>15</td><td>e</td><td>suv    </td><td>2587.365</td><td>3528.225</td></tr>\n",
       "\t<tr><td>14</td><td>20</td><td>r</td><td>suv    </td><td>3293.010</td><td>4704.300</td></tr>\n",
       "\t<tr><td>13</td><td>17</td><td>r</td><td>suv    </td><td>3057.795</td><td>3998.655</td></tr>\n",
       "\t<tr><td>12</td><td>17</td><td>r</td><td>suv    </td><td>2822.580</td><td>3998.655</td></tr>\n",
       "\t<tr><td>16</td><td>26</td><td>p</td><td>2seater</td><td>3763.440</td><td>6115.590</td></tr>\n",
       "\t<tr><td>15</td><td>23</td><td>p</td><td>2seater</td><td>3528.225</td><td>5409.945</td></tr>\n",
       "\t<tr><td>16</td><td>26</td><td>p</td><td>2seater</td><td>3763.440</td><td>6115.590</td></tr>\n",
       "\t<tr><td>15</td><td>25</td><td>p</td><td>2seater</td><td>3528.225</td><td>5880.375</td></tr>\n",
       "\t<tr><td>15</td><td>24</td><td>p</td><td>2seater</td><td>3528.225</td><td>5645.160</td></tr>\n",
       "\t<tr><td>14</td><td>19</td><td>r</td><td>suv    </td><td>3293.010</td><td>4469.085</td></tr>\n",
       "\t<tr><td>11</td><td>14</td><td>e</td><td>suv    </td><td>2587.365</td><td>3293.010</td></tr>\n",
       "\t<tr><td>...</td><td>...</td><td>...</td><td>...</td><td>...</td><td>...</td></tr>\n",
       "\t<tr><td>15</td><td>19</td><td>r</td><td>pickup    </td><td>3528.225</td><td> 4469.085</td></tr>\n",
       "\t<tr><td>15</td><td>18</td><td>r</td><td>pickup    </td><td>3528.225</td><td> 4233.870</td></tr>\n",
       "\t<tr><td>16</td><td>20</td><td>r</td><td>pickup    </td><td>3763.440</td><td> 4704.300</td></tr>\n",
       "\t<tr><td>21</td><td>29</td><td>r</td><td>compact   </td><td>4939.515</td><td> 6821.235</td></tr>\n",
       "\t<tr><td>19</td><td>26</td><td>r</td><td>compact   </td><td>4469.085</td><td> 6115.590</td></tr>\n",
       "\t<tr><td>21</td><td>29</td><td>p</td><td>compact   </td><td>4939.515</td><td> 6821.235</td></tr>\n",
       "\t<tr><td>22</td><td>29</td><td>p</td><td>compact   </td><td>5174.730</td><td> 6821.235</td></tr>\n",
       "\t<tr><td>17</td><td>24</td><td>r</td><td>compact   </td><td>3998.655</td><td> 5645.160</td></tr>\n",
       "\t<tr><td>33</td><td>44</td><td>d</td><td>compact   </td><td>7762.095</td><td>10349.460</td></tr>\n",
       "\t<tr><td>21</td><td>29</td><td>r</td><td>compact   </td><td>4939.515</td><td> 6821.235</td></tr>\n",
       "\t<tr><td>19</td><td>26</td><td>r</td><td>compact   </td><td>4469.085</td><td> 6115.590</td></tr>\n",
       "\t<tr><td>22</td><td>29</td><td>p</td><td>compact   </td><td>5174.730</td><td> 6821.235</td></tr>\n",
       "\t<tr><td>21</td><td>29</td><td>p</td><td>compact   </td><td>4939.515</td><td> 6821.235</td></tr>\n",
       "\t<tr><td>21</td><td>29</td><td>r</td><td>compact   </td><td>4939.515</td><td> 6821.235</td></tr>\n",
       "\t<tr><td>21</td><td>29</td><td>r</td><td>compact   </td><td>4939.515</td><td> 6821.235</td></tr>\n",
       "\t<tr><td>16</td><td>23</td><td>r</td><td>compact   </td><td>3763.440</td><td> 5409.945</td></tr>\n",
       "\t<tr><td>17</td><td>24</td><td>r</td><td>compact   </td><td>3998.655</td><td> 5645.160</td></tr>\n",
       "\t<tr><td>35</td><td>44</td><td>d</td><td>subcompact</td><td>8232.525</td><td>10349.460</td></tr>\n",
       "\t<tr><td>29</td><td>41</td><td>d</td><td>subcompact</td><td>6821.235</td><td> 9643.815</td></tr>\n",
       "\t<tr><td>21</td><td>29</td><td>r</td><td>subcompact</td><td>4939.515</td><td> 6821.235</td></tr>\n",
       "\t<tr><td>19</td><td>26</td><td>r</td><td>subcompact</td><td>4469.085</td><td> 6115.590</td></tr>\n",
       "\t<tr><td>20</td><td>28</td><td>r</td><td>subcompact</td><td>4704.300</td><td> 6586.020</td></tr>\n",
       "\t<tr><td>20</td><td>29</td><td>r</td><td>subcompact</td><td>4704.300</td><td> 6821.235</td></tr>\n",
       "\t<tr><td>21</td><td>29</td><td>p</td><td>midsize   </td><td>4939.515</td><td> 6821.235</td></tr>\n",
       "\t<tr><td>18</td><td>29</td><td>p</td><td>midsize   </td><td>4233.870</td><td> 6821.235</td></tr>\n",
       "\t<tr><td>19</td><td>28</td><td>p</td><td>midsize   </td><td>4469.085</td><td> 6586.020</td></tr>\n",
       "\t<tr><td>21</td><td>29</td><td>p</td><td>midsize   </td><td>4939.515</td><td> 6821.235</td></tr>\n",
       "\t<tr><td>16</td><td>26</td><td>p</td><td>midsize   </td><td>3763.440</td><td> 6115.590</td></tr>\n",
       "\t<tr><td>18</td><td>26</td><td>p</td><td>midsize   </td><td>4233.870</td><td> 6115.590</td></tr>\n",
       "\t<tr><td>17</td><td>26</td><td>p</td><td>midsize   </td><td>3998.655</td><td> 6115.590</td></tr>\n",
       "</tbody>\n",
       "</table>\n"
      ],
      "text/latex": [
       "A tibble: 234 × 6\n",
       "\\begin{tabular}{r|llllll}\n",
       " cty & hwy & fl & class & cty\\_l100km & hwy\\_l100lm\\\\\n",
       " <int> & <int> & <chr> & <chr> & <dbl> & <dbl>\\\\\n",
       "\\hline\n",
       "\t 18 & 29 & p & compact & 4233.870 & 6821.235\\\\\n",
       "\t 21 & 29 & p & compact & 4939.515 & 6821.235\\\\\n",
       "\t 20 & 31 & p & compact & 4704.300 & 7291.665\\\\\n",
       "\t 21 & 30 & p & compact & 4939.515 & 7056.450\\\\\n",
       "\t 16 & 26 & p & compact & 3763.440 & 6115.590\\\\\n",
       "\t 18 & 26 & p & compact & 4233.870 & 6115.590\\\\\n",
       "\t 18 & 27 & p & compact & 4233.870 & 6350.805\\\\\n",
       "\t 18 & 26 & p & compact & 4233.870 & 6115.590\\\\\n",
       "\t 16 & 25 & p & compact & 3763.440 & 5880.375\\\\\n",
       "\t 20 & 28 & p & compact & 4704.300 & 6586.020\\\\\n",
       "\t 19 & 27 & p & compact & 4469.085 & 6350.805\\\\\n",
       "\t 15 & 25 & p & compact & 3528.225 & 5880.375\\\\\n",
       "\t 17 & 25 & p & compact & 3998.655 & 5880.375\\\\\n",
       "\t 17 & 25 & p & compact & 3998.655 & 5880.375\\\\\n",
       "\t 15 & 25 & p & compact & 3528.225 & 5880.375\\\\\n",
       "\t 15 & 24 & p & midsize & 3528.225 & 5645.160\\\\\n",
       "\t 17 & 25 & p & midsize & 3998.655 & 5880.375\\\\\n",
       "\t 16 & 23 & p & midsize & 3763.440 & 5409.945\\\\\n",
       "\t 14 & 20 & r & suv     & 3293.010 & 4704.300\\\\\n",
       "\t 11 & 15 & e & suv     & 2587.365 & 3528.225\\\\\n",
       "\t 14 & 20 & r & suv     & 3293.010 & 4704.300\\\\\n",
       "\t 13 & 17 & r & suv     & 3057.795 & 3998.655\\\\\n",
       "\t 12 & 17 & r & suv     & 2822.580 & 3998.655\\\\\n",
       "\t 16 & 26 & p & 2seater & 3763.440 & 6115.590\\\\\n",
       "\t 15 & 23 & p & 2seater & 3528.225 & 5409.945\\\\\n",
       "\t 16 & 26 & p & 2seater & 3763.440 & 6115.590\\\\\n",
       "\t 15 & 25 & p & 2seater & 3528.225 & 5880.375\\\\\n",
       "\t 15 & 24 & p & 2seater & 3528.225 & 5645.160\\\\\n",
       "\t 14 & 19 & r & suv     & 3293.010 & 4469.085\\\\\n",
       "\t 11 & 14 & e & suv     & 2587.365 & 3293.010\\\\\n",
       "\t ... & ... & ... & ... & ... & ...\\\\\n",
       "\t 15 & 19 & r & pickup     & 3528.225 &  4469.085\\\\\n",
       "\t 15 & 18 & r & pickup     & 3528.225 &  4233.870\\\\\n",
       "\t 16 & 20 & r & pickup     & 3763.440 &  4704.300\\\\\n",
       "\t 21 & 29 & r & compact    & 4939.515 &  6821.235\\\\\n",
       "\t 19 & 26 & r & compact    & 4469.085 &  6115.590\\\\\n",
       "\t 21 & 29 & p & compact    & 4939.515 &  6821.235\\\\\n",
       "\t 22 & 29 & p & compact    & 5174.730 &  6821.235\\\\\n",
       "\t 17 & 24 & r & compact    & 3998.655 &  5645.160\\\\\n",
       "\t 33 & 44 & d & compact    & 7762.095 & 10349.460\\\\\n",
       "\t 21 & 29 & r & compact    & 4939.515 &  6821.235\\\\\n",
       "\t 19 & 26 & r & compact    & 4469.085 &  6115.590\\\\\n",
       "\t 22 & 29 & p & compact    & 5174.730 &  6821.235\\\\\n",
       "\t 21 & 29 & p & compact    & 4939.515 &  6821.235\\\\\n",
       "\t 21 & 29 & r & compact    & 4939.515 &  6821.235\\\\\n",
       "\t 21 & 29 & r & compact    & 4939.515 &  6821.235\\\\\n",
       "\t 16 & 23 & r & compact    & 3763.440 &  5409.945\\\\\n",
       "\t 17 & 24 & r & compact    & 3998.655 &  5645.160\\\\\n",
       "\t 35 & 44 & d & subcompact & 8232.525 & 10349.460\\\\\n",
       "\t 29 & 41 & d & subcompact & 6821.235 &  9643.815\\\\\n",
       "\t 21 & 29 & r & subcompact & 4939.515 &  6821.235\\\\\n",
       "\t 19 & 26 & r & subcompact & 4469.085 &  6115.590\\\\\n",
       "\t 20 & 28 & r & subcompact & 4704.300 &  6586.020\\\\\n",
       "\t 20 & 29 & r & subcompact & 4704.300 &  6821.235\\\\\n",
       "\t 21 & 29 & p & midsize    & 4939.515 &  6821.235\\\\\n",
       "\t 18 & 29 & p & midsize    & 4233.870 &  6821.235\\\\\n",
       "\t 19 & 28 & p & midsize    & 4469.085 &  6586.020\\\\\n",
       "\t 21 & 29 & p & midsize    & 4939.515 &  6821.235\\\\\n",
       "\t 16 & 26 & p & midsize    & 3763.440 &  6115.590\\\\\n",
       "\t 18 & 26 & p & midsize    & 4233.870 &  6115.590\\\\\n",
       "\t 17 & 26 & p & midsize    & 3998.655 &  6115.590\\\\\n",
       "\\end{tabular}\n"
      ],
      "text/markdown": [
       "\n",
       "A tibble: 234 × 6\n",
       "\n",
       "| cty &lt;int&gt; | hwy &lt;int&gt; | fl &lt;chr&gt; | class &lt;chr&gt; | cty_l100km &lt;dbl&gt; | hwy_l100lm &lt;dbl&gt; |\n",
       "|---|---|---|---|---|---|\n",
       "| 18 | 29 | p | compact | 4233.870 | 6821.235 |\n",
       "| 21 | 29 | p | compact | 4939.515 | 6821.235 |\n",
       "| 20 | 31 | p | compact | 4704.300 | 7291.665 |\n",
       "| 21 | 30 | p | compact | 4939.515 | 7056.450 |\n",
       "| 16 | 26 | p | compact | 3763.440 | 6115.590 |\n",
       "| 18 | 26 | p | compact | 4233.870 | 6115.590 |\n",
       "| 18 | 27 | p | compact | 4233.870 | 6350.805 |\n",
       "| 18 | 26 | p | compact | 4233.870 | 6115.590 |\n",
       "| 16 | 25 | p | compact | 3763.440 | 5880.375 |\n",
       "| 20 | 28 | p | compact | 4704.300 | 6586.020 |\n",
       "| 19 | 27 | p | compact | 4469.085 | 6350.805 |\n",
       "| 15 | 25 | p | compact | 3528.225 | 5880.375 |\n",
       "| 17 | 25 | p | compact | 3998.655 | 5880.375 |\n",
       "| 17 | 25 | p | compact | 3998.655 | 5880.375 |\n",
       "| 15 | 25 | p | compact | 3528.225 | 5880.375 |\n",
       "| 15 | 24 | p | midsize | 3528.225 | 5645.160 |\n",
       "| 17 | 25 | p | midsize | 3998.655 | 5880.375 |\n",
       "| 16 | 23 | p | midsize | 3763.440 | 5409.945 |\n",
       "| 14 | 20 | r | suv     | 3293.010 | 4704.300 |\n",
       "| 11 | 15 | e | suv     | 2587.365 | 3528.225 |\n",
       "| 14 | 20 | r | suv     | 3293.010 | 4704.300 |\n",
       "| 13 | 17 | r | suv     | 3057.795 | 3998.655 |\n",
       "| 12 | 17 | r | suv     | 2822.580 | 3998.655 |\n",
       "| 16 | 26 | p | 2seater | 3763.440 | 6115.590 |\n",
       "| 15 | 23 | p | 2seater | 3528.225 | 5409.945 |\n",
       "| 16 | 26 | p | 2seater | 3763.440 | 6115.590 |\n",
       "| 15 | 25 | p | 2seater | 3528.225 | 5880.375 |\n",
       "| 15 | 24 | p | 2seater | 3528.225 | 5645.160 |\n",
       "| 14 | 19 | r | suv     | 3293.010 | 4469.085 |\n",
       "| 11 | 14 | e | suv     | 2587.365 | 3293.010 |\n",
       "| ... | ... | ... | ... | ... | ... |\n",
       "| 15 | 19 | r | pickup     | 3528.225 |  4469.085 |\n",
       "| 15 | 18 | r | pickup     | 3528.225 |  4233.870 |\n",
       "| 16 | 20 | r | pickup     | 3763.440 |  4704.300 |\n",
       "| 21 | 29 | r | compact    | 4939.515 |  6821.235 |\n",
       "| 19 | 26 | r | compact    | 4469.085 |  6115.590 |\n",
       "| 21 | 29 | p | compact    | 4939.515 |  6821.235 |\n",
       "| 22 | 29 | p | compact    | 5174.730 |  6821.235 |\n",
       "| 17 | 24 | r | compact    | 3998.655 |  5645.160 |\n",
       "| 33 | 44 | d | compact    | 7762.095 | 10349.460 |\n",
       "| 21 | 29 | r | compact    | 4939.515 |  6821.235 |\n",
       "| 19 | 26 | r | compact    | 4469.085 |  6115.590 |\n",
       "| 22 | 29 | p | compact    | 5174.730 |  6821.235 |\n",
       "| 21 | 29 | p | compact    | 4939.515 |  6821.235 |\n",
       "| 21 | 29 | r | compact    | 4939.515 |  6821.235 |\n",
       "| 21 | 29 | r | compact    | 4939.515 |  6821.235 |\n",
       "| 16 | 23 | r | compact    | 3763.440 |  5409.945 |\n",
       "| 17 | 24 | r | compact    | 3998.655 |  5645.160 |\n",
       "| 35 | 44 | d | subcompact | 8232.525 | 10349.460 |\n",
       "| 29 | 41 | d | subcompact | 6821.235 |  9643.815 |\n",
       "| 21 | 29 | r | subcompact | 4939.515 |  6821.235 |\n",
       "| 19 | 26 | r | subcompact | 4469.085 |  6115.590 |\n",
       "| 20 | 28 | r | subcompact | 4704.300 |  6586.020 |\n",
       "| 20 | 29 | r | subcompact | 4704.300 |  6821.235 |\n",
       "| 21 | 29 | p | midsize    | 4939.515 |  6821.235 |\n",
       "| 18 | 29 | p | midsize    | 4233.870 |  6821.235 |\n",
       "| 19 | 28 | p | midsize    | 4469.085 |  6586.020 |\n",
       "| 21 | 29 | p | midsize    | 4939.515 |  6821.235 |\n",
       "| 16 | 26 | p | midsize    | 3763.440 |  6115.590 |\n",
       "| 18 | 26 | p | midsize    | 4233.870 |  6115.590 |\n",
       "| 17 | 26 | p | midsize    | 3998.655 |  6115.590 |\n",
       "\n"
      ],
      "text/plain": [
       "    cty hwy fl  class      cty_l100km hwy_l100lm\n",
       "1   18  29  p   compact    4233.870   6821.235  \n",
       "2   21  29  p   compact    4939.515   6821.235  \n",
       "3   20  31  p   compact    4704.300   7291.665  \n",
       "4   21  30  p   compact    4939.515   7056.450  \n",
       "5   16  26  p   compact    3763.440   6115.590  \n",
       "6   18  26  p   compact    4233.870   6115.590  \n",
       "7   18  27  p   compact    4233.870   6350.805  \n",
       "8   18  26  p   compact    4233.870   6115.590  \n",
       "9   16  25  p   compact    3763.440   5880.375  \n",
       "10  20  28  p   compact    4704.300   6586.020  \n",
       "11  19  27  p   compact    4469.085   6350.805  \n",
       "12  15  25  p   compact    3528.225   5880.375  \n",
       "13  17  25  p   compact    3998.655   5880.375  \n",
       "14  17  25  p   compact    3998.655   5880.375  \n",
       "15  15  25  p   compact    3528.225   5880.375  \n",
       "16  15  24  p   midsize    3528.225   5645.160  \n",
       "17  17  25  p   midsize    3998.655   5880.375  \n",
       "18  16  23  p   midsize    3763.440   5409.945  \n",
       "19  14  20  r   suv        3293.010   4704.300  \n",
       "20  11  15  e   suv        2587.365   3528.225  \n",
       "21  14  20  r   suv        3293.010   4704.300  \n",
       "22  13  17  r   suv        3057.795   3998.655  \n",
       "23  12  17  r   suv        2822.580   3998.655  \n",
       "24  16  26  p   2seater    3763.440   6115.590  \n",
       "25  15  23  p   2seater    3528.225   5409.945  \n",
       "26  16  26  p   2seater    3763.440   6115.590  \n",
       "27  15  25  p   2seater    3528.225   5880.375  \n",
       "28  15  24  p   2seater    3528.225   5645.160  \n",
       "29  14  19  r   suv        3293.010   4469.085  \n",
       "30  11  14  e   suv        2587.365   3293.010  \n",
       "... ... ... ... ...        ...        ...       \n",
       "205 15  19  r   pickup     3528.225    4469.085 \n",
       "206 15  18  r   pickup     3528.225    4233.870 \n",
       "207 16  20  r   pickup     3763.440    4704.300 \n",
       "208 21  29  r   compact    4939.515    6821.235 \n",
       "209 19  26  r   compact    4469.085    6115.590 \n",
       "210 21  29  p   compact    4939.515    6821.235 \n",
       "211 22  29  p   compact    5174.730    6821.235 \n",
       "212 17  24  r   compact    3998.655    5645.160 \n",
       "213 33  44  d   compact    7762.095   10349.460 \n",
       "214 21  29  r   compact    4939.515    6821.235 \n",
       "215 19  26  r   compact    4469.085    6115.590 \n",
       "216 22  29  p   compact    5174.730    6821.235 \n",
       "217 21  29  p   compact    4939.515    6821.235 \n",
       "218 21  29  r   compact    4939.515    6821.235 \n",
       "219 21  29  r   compact    4939.515    6821.235 \n",
       "220 16  23  r   compact    3763.440    5409.945 \n",
       "221 17  24  r   compact    3998.655    5645.160 \n",
       "222 35  44  d   subcompact 8232.525   10349.460 \n",
       "223 29  41  d   subcompact 6821.235    9643.815 \n",
       "224 21  29  r   subcompact 4939.515    6821.235 \n",
       "225 19  26  r   subcompact 4469.085    6115.590 \n",
       "226 20  28  r   subcompact 4704.300    6586.020 \n",
       "227 20  29  r   subcompact 4704.300    6821.235 \n",
       "228 21  29  p   midsize    4939.515    6821.235 \n",
       "229 18  29  p   midsize    4233.870    6821.235 \n",
       "230 19  28  p   midsize    4469.085    6586.020 \n",
       "231 21  29  p   midsize    4939.515    6821.235 \n",
       "232 16  26  p   midsize    3763.440    6115.590 \n",
       "233 18  26  p   midsize    4233.870    6115.590 \n",
       "234 17  26  p   midsize    3998.655    6115.590 "
      ]
     },
     "metadata": {},
     "output_type": "display_data"
    }
   ],
   "source": [
    "mpg_km<-mpg%>%mutate(cty_l100km=cty*235.215,hwy_l100lm=hwy*235.215)\n",
    "#mpg_km%>%select(cty:hwy_l100lm)\n",
    "select(mpg_km,cty:hwy_l100lm)"
   ]
  },
  {
   "cell_type": "code",
   "execution_count": 18,
   "metadata": {},
   "outputs": [
    {
     "data": {
      "image/png": "[encoded data removed]",
      "text/plain": [
       "plot without title"
      ]
     },
     "metadata": {},
     "output_type": "display_data"
    }
   ],
   "source": [
    "ggplot(mpg,aes(displ,hwy,color=hwy))+geom_point()+facet_wrap(~class)"
   ]
  },
  {
   "cell_type": "code",
   "execution_count": 43,
   "metadata": {},
   "outputs": [
    {
     "data": {
      "image/png": "[encoded data removed]",
      "text/plain": [
       "plot without title"
      ]
     },
     "metadata": {},
     "output_type": "display_data"
    }
   ],
   "source": [
    "ggplot(mpg,aes(drv,hwy))+geom_point()+geom_violin()+xlab(\"tuta\")"
   ]
  },
  {
   "cell_type": "code",
   "execution_count": 46,
   "metadata": {},
   "outputs": [
    {
     "data": {
      "image/png": "[encoded data removed]",
      "text/plain": [
       "plot without title"
      ]
     },
     "metadata": {},
     "output_type": "display_data"
    }
   ],
   "source": [
    "ggplot(diamonds,aes(log10(carat),log10(price)))+geom_bin2d()+facet_wrap(~cut,nrow=1)"
   ]
  },
  {
   "cell_type": "code",
   "execution_count": 47,
   "metadata": {},
   "outputs": [
    {
     "ename": "ERROR",
     "evalue": "Error in ggplot(Oxboys, aes(age, height, group = Subject)): object 'Oxboys' not found\n",
     "output_type": "error",
     "traceback": [
      "Error in ggplot(Oxboys, aes(age, height, group = Subject)): object 'Oxboys' not found\nTraceback:\n",
      "1. ggplot(Oxboys, aes(age, height, group = Subject))"
     ]
    }
   ],
   "source": [
    "ggplot(Oxboys,aes(age,height,group=Subject))+geom_point()+geom_line()"
   ]
  }
 ],
 "metadata": {
  "kernelspec": {
   "display_name": "R",
   "language": "R",
   "name": "ir"
  },
  "language_info": {
   "codemirror_mode": "r",
   "file_extension": ".r",
   "mimetype": "text/x-r-source",
   "name": "R",
   "pygments_lexer": "r",
   "version": "3.6.1"
  }
 },
 "nbformat": 4,
 "nbformat_minor": 4
}
