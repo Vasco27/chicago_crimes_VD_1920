{
 "cells": [
  {
   "cell_type": "markdown",
   "metadata": {},
   "source": [
    "# Inicialização e pré-processamento de dados\n",
    "\n",
    "## Manipulação de dados\n",
    "\n",
    "#### Guias:\n",
    "* [package dplyr](https://dplyr.tidyverse.org/)\n",
    "* [package apply](https://stackoverflow.com/questions/3505701/grouping-functions-tapply-by-aggregate-and-the-apply-family?rq=1)\n",
    "* [data.table vs dplyr](https://stackoverflow.com/questions/21435339/data-table-vs-dplyr-can-one-do-something-well-the-other-cant-or-does-poorly?rq=1)\n",
    "\n",
    "#### Sampling:\n",
    "\n",
    "Procedeu-se a um sampling de em que reduziu o dataset para 25% do seu tamanho original:\n",
    "    \n",
    "1. Calcular a percentagem de ocorrência de cada primary type no dataset completo.\n",
    "2. Proceder-se à sample de 25% do dataset.\n",
    "3. Calcular a percentagem de ocorrência de cada primary type no dataset partido.\n",
    "4. Comparar as percentagens de modo a perceber se a distribuição alterou muito.\n",
    "    \n",
    "[Porquê o sampling de 25%](https://www.researchgate.net/post/How_to_sample_a_smaller_data_set_from_a_very_large_data_set)?\n",
    "\n",
    "Para que o sampling fosse eficaz na redução do tempo de computação dos algoritmos são feitos **dois** samplings distintos:\n",
    "* Uma primeira sample que contém os dados necessários para a resposta a perguntas sobre os diferentes tipos de crimes, as localizações gerais, as suas relações, relevâncias e evolução temporal.\n",
    "* Uma segunda sample que permita responder a perguntas relacionadas com a localização geográfico e evolução temporal da mesma.\n",
    "\n",
    "### Bibliotecas necessárias:"
   ]
  },
  {
   "cell_type": "code",
   "execution_count": 2,
   "metadata": {},
   "outputs": [
    {
     "name": "stderr",
     "output_type": "stream",
     "text": [
      "Loading required package: data.table\n",
      "Registered S3 methods overwritten by 'ggplot2':\n",
      "  method         from \n",
      "  [.quosures     rlang\n",
      "  c.quosures     rlang\n",
      "  print.quosures rlang\n",
      "Registered S3 method overwritten by 'rvest':\n",
      "  method            from\n",
      "  read_xml.response xml2\n",
      "-- \u001b[1mAttaching packages\u001b[22m --------------------------------------- tidyverse 1.2.1 --\n",
      "\u001b[32mv\u001b[39m \u001b[34mggplot2\u001b[39m 3.1.1       \u001b[32mv\u001b[39m \u001b[34mpurrr  \u001b[39m 0.3.2  \n",
      "\u001b[32mv\u001b[39m \u001b[34mtibble \u001b[39m 2.1.1       \u001b[32mv\u001b[39m \u001b[34mdplyr  \u001b[39m 0.8.0.\u001b[31m1\u001b[39m\n",
      "\u001b[32mv\u001b[39m \u001b[34mtidyr  \u001b[39m 0.8.3       \u001b[32mv\u001b[39m \u001b[34mstringr\u001b[39m 1.4.0  \n",
      "\u001b[32mv\u001b[39m \u001b[34mreadr  \u001b[39m 1.3.1       \u001b[32mv\u001b[39m \u001b[34mforcats\u001b[39m 0.4.0  \n",
      "-- \u001b[1mConflicts\u001b[22m ------------------------------------------ tidyverse_conflicts() --\n",
      "\u001b[31mx\u001b[39m \u001b[34mdplyr\u001b[39m::\u001b[32mbetween()\u001b[39m   masks \u001b[34mdata.table\u001b[39m::between()\n",
      "\u001b[31mx\u001b[39m \u001b[34mdplyr\u001b[39m::\u001b[32mfilter()\u001b[39m    masks \u001b[34mstats\u001b[39m::filter()\n",
      "\u001b[31mx\u001b[39m \u001b[34mdplyr\u001b[39m::\u001b[32mfirst()\u001b[39m     masks \u001b[34mdata.table\u001b[39m::first()\n",
      "\u001b[31mx\u001b[39m \u001b[34mdplyr\u001b[39m::\u001b[32mlag()\u001b[39m       masks \u001b[34mstats\u001b[39m::lag()\n",
      "\u001b[31mx\u001b[39m \u001b[34mdplyr\u001b[39m::\u001b[32mlast()\u001b[39m      masks \u001b[34mdata.table\u001b[39m::last()\n",
      "\u001b[31mx\u001b[39m \u001b[34mpurrr\u001b[39m::\u001b[32mtranspose()\u001b[39m masks \u001b[34mdata.table\u001b[39m::transpose()\n"
     ]
    }
   ],
   "source": [
    "require(data.table) #fread / apply\n",
    "library(tidyverse) #readr / dplyr / ggplot2"
   ]
  },
  {
   "cell_type": "markdown",
   "metadata": {},
   "source": [
    "## Funções de ajuda ao pré-processamento\n",
    "\n",
    "#### Leitura de dados:\n",
    "Leitura dos diferentes ficheiros utilizando *read_csv* com indicação de tipos de colunas (para melhoria de tempo de leitura)"
   ]
  },
  {
   "cell_type": "code",
   "execution_count": 3,
   "metadata": {},
   "outputs": [],
   "source": [
    "read_files <- function() {\n",
    "\n",
    "  types = \"iic?cccccllinnncnni?nn?\"\n",
    "  header = c(\"ID\", \"Case_Number\", \"Date\", \"Block\", \"IUCR\", \"Primary_Type\", \"Description\", \"Location_Description\", \"Arrest\", \"Domestic\", \"Beat\", \"District\", \"Ward\", \"Community_Area\", \"FBI_Code\", \"X_Coordinate\", \"Y_Coordinate\", \"Year\", \"Updated_On\", \"Latitude\", \"Longitude\", \"Location\")\n",
    "\n",
    "  crimes_2001_2004 = read_csv(file = \"datasets/Chicago_Crimes_2001_to_2004.csv\", col_types = types)\n",
    "  crimes_2005_2007 = read_csv(file = \"datasets/Chicago_Crimes_2005_to_2007.csv\", col_types = types)\n",
    "  crimes_2008_2011 = read_csv(file = \"datasets/Chicago_Crimes_2008_to_2011.csv\", col_types = types)\n",
    "  crimes_2012_2017 = read_csv(file = \"datasets/Chicago_Crimes_2012_to_2017.csv\", col_types = types)\n",
    "\n",
    "  #retirar coluna a mais\n",
    "  crimes_2001_2004 = crimes_2001_2004[, !(names(crimes_2001_2004) %in% \"X1\")]\n",
    "  crimes_2005_2007 = crimes_2005_2007[, !(names(crimes_2005_2007) %in% \"X1\")]\n",
    "  crimes_2008_2011 = crimes_2008_2011[, !(names(crimes_2008_2011) %in% \"X1\")]\n",
    "  crimes_2012_2017 = crimes_2012_2017[, !(names(crimes_2012_2017) %in% \"X1\")]\n",
    "  #30692 NA na latitude, longitude, location, x coordinate e y coordinate\n",
    "  #700248 NA na ward e Community area (para 2001_2004)\n",
    "\n",
    "  colnames(crimes_2001_2004) = header\n",
    "  colnames(crimes_2005_2007) = header\n",
    "  colnames(crimes_2008_2011) = header\n",
    "  colnames(crimes_2012_2017) = header\n",
    "\n",
    "  return(list(\"2001_2004\" = crimes_2001_2004, \"2005_2007\" = crimes_2005_2007, \"2008_2011\" = crimes_2008_2011, \"2012_2017\" = crimes_2012_2017));\n",
    "}"
   ]
  },
  {
   "cell_type": "markdown",
   "metadata": {},
   "source": [
    "#### Verificar linhas duplicadas:\n",
    "\n",
    "Vários grupos nas apresentações falaram sobre a existencia de rows duplicadas no dataset.\n",
    "A remoção de duplicados deverá ocorrer **antes do sampling**.\n",
    "\n",
    "* Verificar cada dataset por linhas duplicadas.\n",
    "\n",
    "##### Como verificar linhas duplicadas:\n",
    "* A coluna ID deverá ser única, logo cada caso com ids duplicados deve ser removido\n",
    "* A coluna Case Number contém o id de cada caso também deve ser unica, logo os seus duplicados devem ser removidos\n",
    "* Função que remove os duplicados de um dataset\n",
    "* *dataset* -> matrix com os dados a ser tratados"
   ]
  },
  {
   "cell_type": "code",
   "execution_count": 4,
   "metadata": {},
   "outputs": [],
   "source": [
    "remover_duplicados <- function(dataset) {\n",
    "  dataset = dataset[!duplicated(dataset$ID) & !duplicated(dataset$Case_Number), ]\n",
    "  flag = length(unique(dataset$ID)) == nrow(dataset) #TRUE, deixou de haver IDs duplicados\n",
    "\n",
    "  return(list(\"df\" = dataset, \"no_dups\" = flag))\n",
    "}"
   ]
  },
  {
   "cell_type": "markdown",
   "metadata": {},
   "source": [
    "#### Remover valores nulos:\n",
    "* Função que remove os valores nulos de um certo dataset de acordo com as colunas especificadas\n",
    "* *dataset* -> matrix com os dados a serem tratados\n",
    "* *cols_to_apply* -> array com os numeros (ou nomes) das colunas das quais se pretendem eliminar os valores nulos. (um array vazio significa que se retira os valores nulos do dataset **todo**)"
   ]
  },
  {
   "cell_type": "code",
   "execution_count": 5,
   "metadata": {},
   "outputs": [],
   "source": [
    "remove_NA <- function(dataset, cols_to_apply = c()) {\n",
    "  message(sprintf(\"Removing NAs...\\nlength before NA removal: %i\", nrow(dataset)))\n",
    "  if(length(cols_to_apply) == 0) {\n",
    "    #Remove todos os NAs\n",
    "    dataset = dataset[complete.cases(dataset), ]\n",
    "  } else {\n",
    "    #Remove linhas com certas colunas com NAs\n",
    "    dataset = dataset[complete.cases(dataset[ , cols_to_apply]), ]\n",
    "  }\n",
    "  message(sprintf(\"length after NA removal: %i\", nrow(dataset)))\n",
    "\n",
    "  return(dataset)\n",
    "}"
   ]
  },
  {
   "cell_type": "markdown",
   "metadata": {},
   "source": [
    "## Sampling do dataset:\n",
    "\n",
    "* Eliminação colunas que não serão utilizadas para responder a perguntas sobre os crimes, sem ter em conta a localização.\n",
    "* Tabelas de frequência das diferentes ativiades criminais existentes.\n",
    "* Redução do dataset para 25% do seu tamanho.\n",
    "* Teste à igualdade entre as duas distribuições. (dar valores numéricos aos Primary Type e proceder a testes de hipótese à mediana)\n",
    "\n",
    "O dataset irá ficar com as colunas **Date**, **Primary_Type**, **Description**, **Location_Description**, **Arrest**, **Domestic**, **District** e **Year**.\n",
    "\n",
    "#### Tabela de frequência de ocorrência de crimes:\n",
    "* Função que dispõe os diferentes tipos de crimes e a sua frequência relativa\n",
    "* *dataset* -> matrix com os crimes para tratar"
   ]
  },
  {
   "cell_type": "code",
   "execution_count": 6,
   "metadata": {},
   "outputs": [],
   "source": [
    "get_crimes_freq <- function(dataset) {\n",
    "  dataset_table = lapply(dataset[\"Primary_Type\"], table)\n",
    "\n",
    "  crime_types = as.data.frame(dataset_table$Primary_Type)\n",
    "  colnames(crime_types)[1] = \"Type\"\n",
    "\n",
    "  #tabela de frequencia de crimes\n",
    "  crime_types = crime_types %>%\n",
    "    mutate(Type, percent = round((Freq / nrow(dataset)) * 100, 2))\n",
    "\n",
    "  return(crime_types)\n",
    "}"
   ]
  },
  {
   "cell_type": "markdown",
   "metadata": {},
   "source": [
    "#### Remover crimes irrelevantes:\n",
    "* Função que remove crimes com percentagens irrelevantes.\n",
    "* *dataset* -> matrix para tratar os dados\n",
    "* *percentage* -> percentagem a partir da qual um valor é irrelevante (0.05, significa que todos os crimes com menos de 5% de ocorrência vão ser eliminados)"
   ]
  },
  {
   "cell_type": "code",
   "execution_count": 7,
   "metadata": {},
   "outputs": [],
   "source": [
    "remover_crimes_irrelevantes <- function(dataset, percentage) {\n",
    "  crime_types = get_crimes_freq(dataset)\n",
    "\n",
    "  #Tipos de crime com percentagem 0\n",
    "  crime_types_clean = crime_types %>%\n",
    "    filter(percent <= percentage) %>%\n",
    "    select(Type)\n",
    "\n",
    "  #remover crimes com ocorrencia 0\n",
    "  dataset = filter(dataset, !Primary_Type %in% crime_types_clean$Type)\n",
    "\n",
    "  #repetir tabela de freqs para o dataset limpo\n",
    "  crime_types = get_crimes_freq(dataset)\n",
    "\n",
    "  return(list(\"freq_table\" = crime_types, \"dataset\" = dataset))\n",
    "}"
   ]
  },
  {
   "cell_type": "markdown",
   "metadata": {},
   "source": [
    "#### Sampling de um dataset (25% do tamanho original):\n",
    "\n",
    "Função de controlo do sampling de um dataset:\n",
    "1. Remoção dos duplicados\n",
    "2. Remoção de valores nulos\n",
    "3. Remoção de colunas de acordo com as especificadas\n",
    "4. Remoção de crimes irrelevantes\n",
    "5. Criação da tabela de frequência de crimes do dataset completo (para efeitos de teste)\n",
    "6. Sampling do dataset\n",
    "7. Verificar se há crimes irrelevantes na nova sample\n",
    "8. Criação da tabela de frequência de crimes da sample do dataset\n",
    "\n",
    "Parâmetros:\n",
    "* *dataset* -> matrix com os dados para serem sampled\n",
    "* *cols.rm* -> array de colunas a serem removidas (index ou nomes)\n",
    "* *irrelevant.perc* -> percentagem a partir da qual um crime é considerado irrelevante. Por defeito crimes com 0% de ocorrência são eliminados\n",
    "* *na.rm* -> boolean, indica se se quer remover os valores nulos ou não\n",
    "* *na.relevant* -> array de colunas nas quais a remoção de valores nulos é relevante. Por defeito são removidos os valores nulos de **todas** as colunas (se os na.rm for **TRUE**)\n",
    "\n",
    "Valor de retorno:\n",
    "* *dataset* -> dataset da populção\n",
    "* *sampled_dataset* -> dataset da amostra\n",
    "* *pop_crime_freq* -> tabela de frequência das ocorrências de crimes na população\n",
    "* *sample_crime_freq* -> tabela de frequência das ocorrências de crimes na amostra"
   ]
  },
  {
   "cell_type": "code",
   "execution_count": 8,
   "metadata": {},
   "outputs": [],
   "source": [
    "sample_data <- function(dataset, cols.rm, irrelevant.perc = 0.00, na.rm = FALSE, na.relevant = c()) {\n",
    "  #remover duplicados\n",
    "  rows_before = nrow(dataset)\n",
    "  message(\"Removing duplicates (ID and Case Number)...\")\n",
    "  dups = remover_duplicados(dataset)\n",
    "  if(dups$no_dups) {\n",
    "    dataset = dups$df\n",
    "  } else {\n",
    "    warning(\"Strange behaviour, no duplicates found\")\n",
    "  }\n",
    "  message(sprintf(\"duplicates removed: %i\", (rows_before - nrow(dataset))))\n",
    "\n",
    "  #Remover NAs\n",
    "  if(na.rm == TRUE) {\n",
    "    rows_before = nrow(dataset)\n",
    "    dataset = remove_NA(dataset, cols_to_apply = na.relevant)\n",
    "    if(abs(rows_before - nrow(dataset)) == 0) {\n",
    "      warning(\"The dataset had 0 NA\")\n",
    "    }\n",
    "  } else {\n",
    "    warning(\"NAs were not removed\")\n",
    "  }\n",
    "\n",
    "  #remover colunas especificadas\n",
    "  message(\"Removing unecessary columns...\")\n",
    "  if(length(cols.rm) != 0){\n",
    "    dataset = dataset[-cols.rm]\n",
    "  } else {\n",
    "    warning(\"No columns were chosen to remove\")\n",
    "  }\n",
    "\n",
    "\n",
    "  #remover crimes irrelevantes (de acordo com o parametro)\n",
    "  rows_before = nrow(dataset)\n",
    "  message(\"Removing irrelevant crimes before sampling...\")\n",
    "  return_list = remover_crimes_irrelevantes(dataset, irrelevant.perc)\n",
    "  if(nrow(dataset) == nrow(return_list$dataset)) {\n",
    "    warning(\"There were no crimes with percentage 0 before sampling\")\n",
    "  }\n",
    "  #tabela de frequencias da populacao inteira\n",
    "  crime_types = return_list$freq_table\n",
    "  dataset = return_list$dataset\n",
    "  message(sprintf(\"irrelevant crimes removed before sampling: %i\", (rows_before - nrow(dataset))))\n",
    "\n",
    "  #Sampling de 25%\n",
    "  message(\"Sampling...\")\n",
    "  message(sprintf(\"Lines before sampling: %i\", nrow(dataset)))\n",
    "\n",
    "  sampled_dataset = dataset[seq(1, nrow(dataset), 4), ]\n",
    "  rows_before = nrow(sampled_dataset)\n",
    "  return_list = remover_crimes_irrelevantes(sampled_dataset, irrelevant.perc)\n",
    "  if(nrow(dataset) == nrow(return_list$dataset)) {\n",
    "    warning(\"There were no crimes with percentage 0 after sampling\")\n",
    "  }\n",
    "  sampled_dataset = return_list$dataset\n",
    "\n",
    "  message(sprintf(\"irrelevant crimes removed after sampling: %i\", (rows_before - nrow(sampled_dataset))))\n",
    "  message(sprintf(\"Lines after sampling: %i\", nrow(sampled_dataset)))\n",
    "\n",
    "  sampled_crime_types = return_list$freq_table\n",
    "\n",
    "  return(list(\"dataset\" = dataset, \"sampled_dataset\" = sampled_dataset, \"pop_crime_freq\" = crime_types, \"sample_crime_freq\" = sampled_crime_types))\n",
    "}"
   ]
  },
  {
   "cell_type": "markdown",
   "metadata": {},
   "source": [
    "#### Teste à distribuição:\n",
    "* Teste sobre a distribuição de uma amostra em relação à distribuição da sua população\n",
    "* *x* -> população\n",
    "* *y* -> amostra\n",
    "* *mean.threshold* -> threshold para a tolerancia da diferença absoluta entre as médias da amostra e da população\n",
    "* *median.threshold* -> tolerancia sobre a diferença absoluta entre a mediana da amostra e da população\n",
    "* *sd.threshold* -> tolerancia sobre a diferença absoluta entre o desvio padrão da amostra e da população\n",
    "\n",
    "**Retorno**\n",
    "* **TRUE** -> O teste passou e a amostra é uma representação significativa da população\n",
    "* **FALSE** -> O teste falhou e a amostra não é uma representação significativa da população"
   ]
  },
  {
   "cell_type": "code",
   "execution_count": 9,
   "metadata": {},
   "outputs": [],
   "source": [
    "distribution.test <- function(x, y, mean.threshold = 1.0, median.threshold = 1, sd.threshold = 0.3) {\n",
    "  mean_flag = abs(mean(x) - mean(y)) < mean.threshold\n",
    "  median_flag = abs(median(x) - median(y)) <= median.threshold\n",
    "  sd_flag = abs(sd(x) - sd(y)) < sd.threshold\n",
    "\n",
    "  if(!mean_flag) {\n",
    "    warning(sprintf(\"mean threshold exceeded: %f\", abs(mean(x) - mean(y))))\n",
    "  }\n",
    "  if(!median_flag) {\n",
    "    warning(sprintf(\"median threshold exceeded: %f\", abs(median(x) - median(y))))\n",
    "  }\n",
    "  if(!sd_flag) {\n",
    "    warning(sprintf(\"sd threshold exceeded: %f\", abs(sd(x) - sd(y))))\n",
    "  }\n",
    "\n",
    "  return(mean_flag & median_flag & sd_flag)\n",
    "}"
   ]
  },
  {
   "cell_type": "markdown",
   "metadata": {},
   "source": [
    "### Função final:\n",
    "\n",
    "Esta função é utilizada para criar uma amostra do conjunto das 4 chunks do dataset dos crimes em chicago. É uma função de **controlo** que faz todo o pré-processamento e devolve a amostra final.\n",
    "\n",
    "Parâmetros:\n",
    "* *files.read* -> boolean que indica se os ficheiros devem ser lidos ou não\n",
    "* *files.list* -> lista dos ficheiros (tal e qual o retorno da função *read_files()*) de modo a não se repetir a leitura\n",
    "* *cols.rm* -> array of columns to remove from the dataset read\n",
    "* *irrelevant.perc* -> threshold que indica a partil de qual percentagem os crimes são irrelevantes\n",
    "* *na.rm* -> boolean que indica se os valores nulos devem ser removidos\n",
    "* *na.relevant* -> array de colunas sobre as quais deve ser aplicada a remoção de valores nulos\n",
    "\n",
    "Retorno:\n",
    "* *complete_sample* -> a amostra final pronta para ser trabalhada\n",
    "* *files_read* -> lista dos ficheiros lidos (para o caso de se fazer outra amostra **sem ter que reler** os ficheiros)\n"
   ]
  },
  {
   "cell_type": "code",
   "execution_count": 10,
   "metadata": {},
   "outputs": [],
   "source": [
    "get_complete_sample <- function(files.read = FALSE, files.list = c(), cols.rm, irrelevant.perc = 0.00, na.rm = FALSE, na.relevant = c()) {\n",
    "  if(files.read) {\n",
    "    message(\"Reading files...\")\n",
    "    files_list = read_files()\n",
    "  } else {\n",
    "    warning(\"Files not read.\\nUsing list from argument.\")\n",
    "  }\n",
    "\n",
    "  crimes_2001_2004 = files_list$`2001_2004`\n",
    "  crimes_2005_2007 = files_list$`2005_2007`\n",
    "  crimes_2008_2011 = files_list$`2008_2011`\n",
    "  crimes_2012_2017 = files_list$`2012_2017`\n",
    "\n",
    "  comp_2001_2004 = sample_data(crimes_2001_2004, cols.rm, irrelevant.perc, na.rm, na.relevant)\n",
    "  comp_2005_2007 = sample_data(crimes_2005_2007, cols.rm, irrelevant.perc, na.rm, na.relevant)\n",
    "  comp_2008_2011 = sample_data(crimes_2008_2011, cols.rm, irrelevant.perc, na.rm, na.relevant)\n",
    "  comp_2012_2017 = sample_data(crimes_2012_2017, cols.rm, irrelevant.perc, na.rm, na.relevant)\n",
    "\n",
    "  merged_data = rbind(comp_2001_2004$sampled_dataset, comp_2005_2007$sampled_dataset)\n",
    "  merged_data = rbind(merged_data, comp_2008_2011$sampled_dataset)\n",
    "  complete_sample = rbind(merged_data, comp_2012_2017$sampled_dataset)\n",
    "\n",
    "  return(list(\"complete_sample\" = complete_sample, \"files_read\" = files_list))\n",
    "}"
   ]
  },
  {
   "cell_type": "markdown",
   "metadata": {},
   "source": [
    "## Testes às distribuições dos diferentes *chunks* do dataset:\n",
    "\n",
    "Preparação dos dados de cada chunk"
   ]
  },
  {
   "cell_type": "code",
   "execution_count": 10,
   "metadata": {},
   "outputs": [
    {
     "name": "stderr",
     "output_type": "stream",
     "text": [
      "Warning message:\n",
      "\"Missing column names filled in: 'X1' [1]\"Warning message:\n",
      "\"14 parsing failures.\n",
      "    row      col           expected               actual                                       file\n",
      "1513590 Arrest   1/0/T/F/TRUE/FALSE Location Description 'datasets/Chicago_Crimes_2001_to_2004.csv'\n",
      "1513590 Domestic 1/0/T/F/TRUE/FALSE Arrest               'datasets/Chicago_Crimes_2001_to_2004.csv'\n",
      "1513590 Beat     an integer         Domestic             'datasets/Chicago_Crimes_2001_to_2004.csv'\n",
      "1513590 District a number           Beat                 'datasets/Chicago_Crimes_2001_to_2004.csv'\n",
      "1513590 Ward     a number           District             'datasets/Chicago_Crimes_2001_to_2004.csv'\n",
      "....... ........ .................. .................... ..........................................\n",
      "See problems(...) for more details.\n",
      "\"Warning message:\n",
      "\"Missing column names filled in: 'X1' [1]\"Warning message:\n",
      "\"1 parsing failure.\n",
      "   row      col           expected actual                                       file\n",
      "533718 Location delimiter or quote      ( 'datasets/Chicago_Crimes_2005_to_2007.csv'\n",
      "\"Warning message:\n",
      "\"Missing column names filled in: 'X1' [1]\"Warning message:\n",
      "\"1 parsing failure.\n",
      "    row col   expected     actual                                       file\n",
      "1149093  -- 23 columns 41 columns 'datasets/Chicago_Crimes_2008_to_2011.csv'\n",
      "\"Warning message:\n",
      "\"Missing column names filled in: 'X1' [1]\"Removing duplicates (ID and Case Number)...\n",
      "duplicates removed: 89348\n",
      "Warning message in sample_data(crimes_2001_2004, cols_to_rm, 0):\n",
      "\"NAs were not removed\"Removing unecessary columns...\n",
      "Removing irrelevant crimes before sampling...\n",
      "irrelevant crimes removed before sampling: 134\n",
      "Sampling...\n",
      "Lines before sampling: 1834034\n",
      "irrelevant crimes removed after sampling: 0\n",
      "Lines after sampling: 458509\n",
      "Removing duplicates (ID and Case Number)...\n",
      "duplicates removed: 533761\n",
      "Warning message in sample_data(crimes_2005_2007, cols_to_rm, 0):\n",
      "\"NAs were not removed\"Removing unecessary columns...\n",
      "Removing irrelevant crimes before sampling...\n",
      "irrelevant crimes removed before sampling: 100\n",
      "Sampling...\n",
      "Lines before sampling: 1338483\n",
      "irrelevant crimes removed after sampling: 0\n",
      "Lines after sampling: 334621\n",
      "Removing duplicates (ID and Case Number)...\n",
      "duplicates removed: 1147586\n",
      "Warning message in sample_data(crimes_2008_2011, cols_to_rm, 0):\n",
      "\"NAs were not removed\"Removing unecessary columns...\n",
      "Removing irrelevant crimes before sampling...\n",
      "irrelevant crimes removed before sampling: 66\n",
      "Sampling...\n",
      "Lines before sampling: 1541059\n",
      "irrelevant crimes removed after sampling: 0\n",
      "Lines after sampling: 385265\n",
      "Removing duplicates (ID and Case Number)...\n",
      "duplicates removed: 115\n",
      "Warning message in sample_data(crimes_2012_2017, cols_to_rm, 0):\n",
      "\"NAs were not removed\"Removing unecessary columns...\n",
      "Removing irrelevant crimes before sampling...\n",
      "irrelevant crimes removed before sampling: 162\n",
      "Sampling...\n",
      "Lines before sampling: 1456437\n",
      "irrelevant crimes removed after sampling: 15\n",
      "Lines after sampling: 364095\n"
     ]
    }
   ],
   "source": [
    "files_list = read_files()\n",
    "crimes_2001_2004 = files_list$`2001_2004`\n",
    "crimes_2005_2007 = files_list$`2005_2007`\n",
    "crimes_2008_2011 = files_list$`2008_2011`\n",
    "crimes_2012_2017 = files_list$`2012_2017`\n",
    "\n",
    "cols_to_rm = c(1:2, 4:5, 11, 13:17, 19:22)\n",
    "return_list = sample_data(crimes_2001_2004, cols_to_rm, 0)\n",
    "dataset_2001_2004 = return_list$dataset\n",
    "sample_2001_2004 = return_list$sampled_dataset\n",
    "\n",
    "return_list = sample_data(crimes_2005_2007, cols_to_rm, 0)\n",
    "dataset_2005_2007 = return_list$dataset\n",
    "sample_2005_2007 = return_list$sampled_dataset\n",
    "\n",
    "return_list = sample_data(crimes_2008_2011, cols_to_rm, 0)\n",
    "dataset_2008_2011 = return_list$dataset\n",
    "sample_2008_2011 = return_list$sampled_dataset\n",
    "\n",
    "return_list = sample_data(crimes_2012_2017, cols_to_rm, 0)\n",
    "dataset_2012_2017 = return_list$dataset\n",
    "sample_2012_2017 = return_list$sampled_dataset"
   ]
  },
  {
   "cell_type": "markdown",
   "metadata": {},
   "source": [
    "**Testes para cada chunk, diferenças entre a população e a amostra**"
   ]
  },
  {
   "cell_type": "code",
   "execution_count": 11,
   "metadata": {},
   "outputs": [
    {
     "data": {
      "text/html": [
       "TRUE"
      ],
      "text/latex": [
       "TRUE"
      ],
      "text/markdown": [
       "TRUE"
      ],
      "text/plain": [
       "[1] TRUE"
      ]
     },
     "metadata": {},
     "output_type": "display_data"
    },
    {
     "data": {
      "text/html": [
       "TRUE"
      ],
      "text/latex": [
       "TRUE"
      ],
      "text/markdown": [
       "TRUE"
      ],
      "text/plain": [
       "[1] TRUE"
      ]
     },
     "metadata": {},
     "output_type": "display_data"
    },
    {
     "data": {
      "text/html": [
       "TRUE"
      ],
      "text/latex": [
       "TRUE"
      ],
      "text/markdown": [
       "TRUE"
      ],
      "text/plain": [
       "[1] TRUE"
      ]
     },
     "metadata": {},
     "output_type": "display_data"
    },
    {
     "name": "stderr",
     "output_type": "stream",
     "text": [
      "Warning message in distribution.test(numeric_primary_type_pop1, numeric_primary_type_pop2, :\n",
      "\"mean threshold exceeded: 0.715126\"Warning message in distribution.test(numeric_primary_type_pop1, numeric_primary_type_pop2, :\n",
      "\"median threshold exceeded: 3.000000\""
     ]
    },
    {
     "data": {
      "text/html": [
       "FALSE"
      ],
      "text/latex": [
       "FALSE"
      ],
      "text/markdown": [
       "FALSE"
      ],
      "text/plain": [
       "[1] FALSE"
      ]
     },
     "metadata": {},
     "output_type": "display_data"
    }
   ],
   "source": [
    "#Teste para 2001_2004\n",
    "numeric_primary_type_pop1 = unclass(as.factor(dataset_2001_2004$Primary_Type))\n",
    "numeric_primary_type_pop2 = unclass(as.factor(sample_2001_2004$Primary_Type))\n",
    "\n",
    "distribution.test(x = numeric_primary_type_pop1, y = numeric_primary_type_pop2, mean.threshold =  0.5, median.threshold = 1, sd.threshold =  0.5) #TRUE significa que o teste passou\n",
    "\n",
    "\n",
    "#Teste para 2005_2007\n",
    "numeric_primary_type_pop1 = unclass(as.factor(dataset_2005_2007$Primary_Type))\n",
    "numeric_primary_type_pop2 = unclass(as.factor(sample_2005_2007$Primary_Type))\n",
    "\n",
    "distribution.test(numeric_primary_type_pop1, numeric_primary_type_pop2, 0.5, 1, 0.5)\n",
    "\n",
    "\n",
    "#Teste para 2008_2011\n",
    "numeric_primary_type_pop1 = unclass(as.factor(dataset_2008_2011$Primary_Type))\n",
    "numeric_primary_type_pop2 = unclass(as.factor(sample_2008_2011$Primary_Type))\n",
    "\n",
    "distribution.test(numeric_primary_type_pop1, numeric_primary_type_pop2, 0.5, 1, 0.5)\n",
    "\n",
    "\n",
    "#Teste para 2012_2017\n",
    "numeric_primary_type_pop1 = unclass(as.factor(dataset_2012_2017$Primary_Type))\n",
    "numeric_primary_type_pop2 = unclass(as.factor(sample_2012_2017$Primary_Type))\n",
    "\n",
    "distribution.test(numeric_primary_type_pop1, numeric_primary_type_pop2, 0.5, 2, 0.5)"
   ]
  },
  {
   "cell_type": "markdown",
   "metadata": {},
   "source": [
    "A realização destes teste permite avaliar o quão representativa é uma amostra em relação à população da qual foi retirada.\n",
    "\n",
    "Para os três primeiros chunks como o resultado é **TRUE**, significa que para os thresholds especificados a amostra é uma representação significativa da população.\n",
    "\n",
    "No entanto, para o quarto chunk isto nem sempre se verifica. Os seus valores são um pouco mais erráticos, o que leva a uma distribuição de crimes mais esparsa. Daí o resultado do seu teste dar **FALSE**.\n",
    "\n",
    "É possível verificar nas mensagens de aviso quais os thresholds que foram excedidos, desta forma podemos ver que não foram excedidos por valores muito elevados, logo podemos ainda considerar esta amostra **significativa**.\n",
    "\n",
    "\n",
    "## Como chamar a amostra completa ao longo do trabalho:\n",
    "Ajustando os parâmetros conforme o que se pretende obter.\n",
    "\n",
    "É possível obter amostras de dados diferentes (utilizando o *cols.rm*) e obter tipos de crime diferentes (aumentando a threshold do *irrelevant.perc*)"
   ]
  },
  {
   "cell_type": "code",
   "execution_count": 12,
   "metadata": {},
   "outputs": [
    {
     "name": "stderr",
     "output_type": "stream",
     "text": [
      "Reading files...\n",
      "Warning message:\n",
      "\"Missing column names filled in: 'X1' [1]\"Warning message:\n",
      "\"14 parsing failures.\n",
      "    row      col           expected               actual                                       file\n",
      "1513590 Arrest   1/0/T/F/TRUE/FALSE Location Description 'datasets/Chicago_Crimes_2001_to_2004.csv'\n",
      "1513590 Domestic 1/0/T/F/TRUE/FALSE Arrest               'datasets/Chicago_Crimes_2001_to_2004.csv'\n",
      "1513590 Beat     an integer         Domestic             'datasets/Chicago_Crimes_2001_to_2004.csv'\n",
      "1513590 District a number           Beat                 'datasets/Chicago_Crimes_2001_to_2004.csv'\n",
      "1513590 Ward     a number           District             'datasets/Chicago_Crimes_2001_to_2004.csv'\n",
      "....... ........ .................. .................... ..........................................\n",
      "See problems(...) for more details.\n",
      "\"Warning message:\n",
      "\"Missing column names filled in: 'X1' [1]\"Warning message:\n",
      "\"1 parsing failure.\n",
      "   row      col           expected actual                                       file\n",
      "533718 Location delimiter or quote      ( 'datasets/Chicago_Crimes_2005_to_2007.csv'\n",
      "\"Warning message:\n",
      "\"Missing column names filled in: 'X1' [1]\"Warning message:\n",
      "\"1 parsing failure.\n",
      "    row col   expected     actual                                       file\n",
      "1149093  -- 23 columns 41 columns 'datasets/Chicago_Crimes_2008_to_2011.csv'\n",
      "\"Warning message:\n",
      "\"Missing column names filled in: 'X1' [1]\"Removing duplicates (ID and Case Number)...\n",
      "duplicates removed: 89348\n",
      "Warning message in sample_data(crimes_2001_2004, cols.rm, irrelevant.perc, na.rm, :\n",
      "\"NAs were not removed\"Removing unecessary columns...\n",
      "Removing irrelevant crimes before sampling...\n",
      "irrelevant crimes removed before sampling: 134\n",
      "Sampling...\n",
      "Lines before sampling: 1834034\n",
      "irrelevant crimes removed after sampling: 0\n",
      "Lines after sampling: 458509\n",
      "Removing duplicates (ID and Case Number)...\n",
      "duplicates removed: 533761\n",
      "Warning message in sample_data(crimes_2005_2007, cols.rm, irrelevant.perc, na.rm, :\n",
      "\"NAs were not removed\"Removing unecessary columns...\n",
      "Removing irrelevant crimes before sampling...\n",
      "irrelevant crimes removed before sampling: 100\n",
      "Sampling...\n",
      "Lines before sampling: 1338483\n",
      "irrelevant crimes removed after sampling: 0\n",
      "Lines after sampling: 334621\n",
      "Removing duplicates (ID and Case Number)...\n",
      "duplicates removed: 1147586\n",
      "Warning message in sample_data(crimes_2008_2011, cols.rm, irrelevant.perc, na.rm, :\n",
      "\"NAs were not removed\"Removing unecessary columns...\n",
      "Removing irrelevant crimes before sampling...\n",
      "irrelevant crimes removed before sampling: 66\n",
      "Sampling...\n",
      "Lines before sampling: 1541059\n",
      "irrelevant crimes removed after sampling: 0\n",
      "Lines after sampling: 385265\n",
      "Removing duplicates (ID and Case Number)...\n",
      "duplicates removed: 115\n",
      "Warning message in sample_data(crimes_2012_2017, cols.rm, irrelevant.perc, na.rm, :\n",
      "\"NAs were not removed\"Removing unecessary columns...\n",
      "Removing irrelevant crimes before sampling...\n",
      "irrelevant crimes removed before sampling: 162\n",
      "Sampling...\n",
      "Lines before sampling: 1456437\n",
      "irrelevant crimes removed after sampling: 15\n",
      "Lines after sampling: 364095\n"
     ]
    },
    {
     "data": {
      "text/html": [
       "<table>\n",
       "<thead><tr><th scope=col>Date</th><th scope=col>Primary_Type</th><th scope=col>Description</th><th scope=col>Location_Description</th><th scope=col>Arrest</th><th scope=col>Domestic</th><th scope=col>District</th><th scope=col>Year</th></tr></thead>\n",
       "<tbody>\n",
       "\t<tr><td>01/01/2004 12:01:00 AM        </td><td>THEFT                         </td><td>FINANCIAL ID THEFT: OVER $300 </td><td>RESIDENCE                     </td><td>FALSE                         </td><td>FALSE                         </td><td> 4                            </td><td>2004                          </td></tr>\n",
       "\t<tr><td>05/01/2003 01:00:00 AM                                            </td><td><span style=white-space:pre-wrap>THEFT                     </span></td><td>FINANCIAL ID THEFT:$300 &amp;UNDER                                </td><td>RESIDENCE                                                         </td><td>FALSE                                                             </td><td>FALSE                                                             </td><td>22                                                                </td><td>2003                                                              </td></tr>\n",
       "\t<tr><td>09/16/2004 10:00:00 AM        </td><td>THEFT                         </td><td>FROM BUILDING                 </td><td>RESIDENCE                     </td><td>FALSE                         </td><td>FALSE                         </td><td>18                            </td><td>2004                          </td></tr>\n",
       "\t<tr><td>01/01/2003 12:00:00 AM        </td><td>THEFT                         </td><td>FINANCIAL ID THEFT: OVER $300 </td><td>RESIDENCE                     </td><td>FALSE                         </td><td>FALSE                         </td><td> 8                            </td><td>2003                          </td></tr>\n",
       "\t<tr><td>01/02/2003 08:00:00 AM        </td><td>THEFT                         </td><td>FINANCIAL ID THEFT: OVER $300 </td><td>RESIDENCE                     </td><td>FALSE                         </td><td>FALSE                         </td><td>14                            </td><td>2003                          </td></tr>\n",
       "\t<tr><td>06/16/2001 08:00:00 AM        </td><td>OFFENSE INVOLVING CHILDREN    </td><td>AGG SEX ASSLT OF CHILD FAM MBR</td><td>RESIDENCE                     </td><td> TRUE                         </td><td>FALSE                         </td><td> 7                            </td><td>2001                          </td></tr>\n",
       "</tbody>\n",
       "</table>\n"
      ],
      "text/latex": [
       "\\begin{tabular}{r|llllllll}\n",
       " Date & Primary\\_Type & Description & Location\\_Description & Arrest & Domestic & District & Year\\\\\n",
       "\\hline\n",
       "\t 01/01/2004 12:01:00 AM           & THEFT                            & FINANCIAL ID THEFT: OVER \\$300  & RESIDENCE                        & FALSE                            & FALSE                            &  4                               & 2004                            \\\\\n",
       "\t 05/01/2003 01:00:00 AM             & THEFT                              & FINANCIAL ID THEFT:\\$300 \\&UNDER & RESIDENCE                          & FALSE                              & FALSE                              & 22                                 & 2003                              \\\\\n",
       "\t 09/16/2004 10:00:00 AM         & THEFT                          & FROM BUILDING                  & RESIDENCE                      & FALSE                          & FALSE                          & 18                             & 2004                          \\\\\n",
       "\t 01/01/2003 12:00:00 AM           & THEFT                            & FINANCIAL ID THEFT: OVER \\$300  & RESIDENCE                        & FALSE                            & FALSE                            &  8                               & 2003                            \\\\\n",
       "\t 01/02/2003 08:00:00 AM           & THEFT                            & FINANCIAL ID THEFT: OVER \\$300  & RESIDENCE                        & FALSE                            & FALSE                            & 14                               & 2003                            \\\\\n",
       "\t 06/16/2001 08:00:00 AM         & OFFENSE INVOLVING CHILDREN     & AGG SEX ASSLT OF CHILD FAM MBR & RESIDENCE                      &  TRUE                          & FALSE                          &  7                             & 2001                          \\\\\n",
       "\\end{tabular}\n"
      ],
      "text/markdown": [
       "\n",
       "| Date | Primary_Type | Description | Location_Description | Arrest | Domestic | District | Year |\n",
       "|---|---|---|---|---|---|---|---|\n",
       "| 01/01/2004 12:01:00 AM         | THEFT                          | FINANCIAL ID THEFT: OVER $300  | RESIDENCE                      | FALSE                          | FALSE                          |  4                             | 2004                           |\n",
       "| 05/01/2003 01:00:00 AM         | THEFT                          | FINANCIAL ID THEFT:$300 &UNDER | RESIDENCE                      | FALSE                          | FALSE                          | 22                             | 2003                           |\n",
       "| 09/16/2004 10:00:00 AM         | THEFT                          | FROM BUILDING                  | RESIDENCE                      | FALSE                          | FALSE                          | 18                             | 2004                           |\n",
       "| 01/01/2003 12:00:00 AM         | THEFT                          | FINANCIAL ID THEFT: OVER $300  | RESIDENCE                      | FALSE                          | FALSE                          |  8                             | 2003                           |\n",
       "| 01/02/2003 08:00:00 AM         | THEFT                          | FINANCIAL ID THEFT: OVER $300  | RESIDENCE                      | FALSE                          | FALSE                          | 14                             | 2003                           |\n",
       "| 06/16/2001 08:00:00 AM         | OFFENSE INVOLVING CHILDREN     | AGG SEX ASSLT OF CHILD FAM MBR | RESIDENCE                      |  TRUE                          | FALSE                          |  7                             | 2001                           |\n",
       "\n"
      ],
      "text/plain": [
       "  Date                   Primary_Type              \n",
       "1 01/01/2004 12:01:00 AM THEFT                     \n",
       "2 05/01/2003 01:00:00 AM THEFT                     \n",
       "3 09/16/2004 10:00:00 AM THEFT                     \n",
       "4 01/01/2003 12:00:00 AM THEFT                     \n",
       "5 01/02/2003 08:00:00 AM THEFT                     \n",
       "6 06/16/2001 08:00:00 AM OFFENSE INVOLVING CHILDREN\n",
       "  Description                    Location_Description Arrest Domestic District\n",
       "1 FINANCIAL ID THEFT: OVER $300  RESIDENCE            FALSE  FALSE     4      \n",
       "2 FINANCIAL ID THEFT:$300 &UNDER RESIDENCE            FALSE  FALSE    22      \n",
       "3 FROM BUILDING                  RESIDENCE            FALSE  FALSE    18      \n",
       "4 FINANCIAL ID THEFT: OVER $300  RESIDENCE            FALSE  FALSE     8      \n",
       "5 FINANCIAL ID THEFT: OVER $300  RESIDENCE            FALSE  FALSE    14      \n",
       "6 AGG SEX ASSLT OF CHILD FAM MBR RESIDENCE             TRUE  FALSE     7      \n",
       "  Year\n",
       "1 2004\n",
       "2 2003\n",
       "3 2004\n",
       "4 2003\n",
       "5 2003\n",
       "6 2001"
      ]
     },
     "metadata": {},
     "output_type": "display_data"
    },
    {
     "data": {
      "text/html": [
       "1542490"
      ],
      "text/latex": [
       "1542490"
      ],
      "text/markdown": [
       "1542490"
      ],
      "text/plain": [
       "[1] 1542490"
      ]
     },
     "metadata": {},
     "output_type": "display_data"
    }
   ],
   "source": [
    "cols_to_rm = c(1:2, 4:5, 11, 13:17, 19:22)\n",
    "return_list = get_complete_sample(files.read = TRUE, files.list = c(), cols.rm = cols_to_rm, irrelevant.perc = 0, \n",
    "                                      na.rm = FALSE, na.relevant = c())\n",
    "complete_sample = return_list$complete_sample\n",
    "files = return_list$files_read\n",
    "head(complete_sample)\n",
    "nrow(complete_sample)"
   ]
  },
  {
   "cell_type": "markdown",
   "metadata": {},
   "source": [
    "# Exploratory Data Analysis:\n",
    "Após o pré-processamento, nesta secção será feita a EDA relativa a este projeto e às perguntas e hipóteses formuladas sobre o dataset dos crimes de Chicago.\n",
    "\n",
    "#### Algumas ideias de EDA inicial:\n",
    "* Wordcloud dos diferentes tipos de crime\n",
    "* Gráfico radial que explique a sazonalidade do crime em chicago (12 meses por ano, de todos os anos do dataset)\n",
    "\n",
    "## Partes principais do trabalho:\n",
    "* Função safety\n",
    "* Overload de beats\n",
    "\n",
    "### Perguntas relacionadas com a parte do **overload de beats**:\n",
    "* Existem beats sobrecarregados? Será que a polícia está a alocar bem os seus recursos?\n",
    "* Qual a média dos crimes por dia por beat no ano 2017? Será que há alguma beat que se destaque com uma média de crimes por dia muito superior à média geral? Como é que essa beat se comporta em termos de crimes por dia?\n",
    "* No caso das beats mais sobrecarregadas, em que tipo de community area se encontram? Será que se encontram numa zona mais pobre? (Juntar com o dataframe do indice socioeconomico)\n",
    "* Como é que se comporta o crime da beat mais sobrecarregada ao longo do dia, por hora?\n",
    "\n",
    "#### Visualização de primeiro nível (**overload de beats**):\n",
    "* Histograma que represente as várias beats em relação à quantidade de crimes de cada uma para o ano 2017 e em geral (verificação de casos extremos / dois histogramas diferentes)\n",
    "* Destacar uma beat extrema e fazer um grafico de linhas que mostre o comportamentos dos crimes nessa beat por dia ao longo do ano 2017 e por hora (facet grid)\n",
    "* Histograma que mostre o indice socioeconomico de cada community ward sendo que a cor indica o número de beats que existem nessa community ward\n",
    "* Destacar beats acima da média de crimes, fazer histograma com a beat e a média de crimes para 2017, sendo que a cor das barras indica se a zona tem um baixo indice socioeconomico)\n",
    "\n",
    "**Importante não esquecer que o indice socioeconomico é relativo ao intervalo de anos 2008-2012 enquanto as representação são sobre o ano 2017**\n",
    "\n",
    "#### Visualização avançada (**overload de beats**):\n",
    "* Média de crimes por hora para o ano 2017 na beat mais sobrecarregada, gráfico 360 com as várias horas (polar chart ou radar chart)\n",
    "* Mapa de Chicago em que as beats são representadas por circulos com um **gradiante de cor** que representa o quão sobrecarregada se encontra a beat em 2017 (tons de verde para beats sobre controlo, tons de vermelho para beats sobrecarregadas). Também se devia **delinear** as diferentes community areas (possivelmente com as iniciais da community area a indicar qual é a mesma no mapa)\n",
    "* Mapa que mostre as community areas de Chicago, com uma **cor** que indique o seu indice socioeconomico (2008-2012).\n",
    "\n",
    "### Perguntas sobre a **relação** entre o **overload de beats** e a **função safety**:\n",
    "* Será que as community areas onde existem mais beats sobrecarregadas são também consideradas menos seguras? Será que a polícia está com dificuldades em manter sobre controlo áreas menos seguras?"
   ]
  },
  {
   "cell_type": "code",
   "execution_count": 11,
   "metadata": {},
   "outputs": [
    {
     "name": "stderr",
     "output_type": "stream",
     "text": [
      "Reading files...\n",
      "Warning message:\n",
      "\"Missing column names filled in: 'X1' [1]\"Warning message:\n",
      "\"14 parsing failures.\n",
      "    row      col           expected               actual                                       file\n",
      "1513590 Arrest   1/0/T/F/TRUE/FALSE Location Description 'datasets/Chicago_Crimes_2001_to_2004.csv'\n",
      "1513590 Domestic 1/0/T/F/TRUE/FALSE Arrest               'datasets/Chicago_Crimes_2001_to_2004.csv'\n",
      "1513590 Beat     an integer         Domestic             'datasets/Chicago_Crimes_2001_to_2004.csv'\n",
      "1513590 District a number           Beat                 'datasets/Chicago_Crimes_2001_to_2004.csv'\n",
      "1513590 Ward     a number           District             'datasets/Chicago_Crimes_2001_to_2004.csv'\n",
      "....... ........ .................. .................... ..........................................\n",
      "See problems(...) for more details.\n",
      "\"Warning message:\n",
      "\"Missing column names filled in: 'X1' [1]\"Warning message:\n",
      "\"1 parsing failure.\n",
      "   row      col           expected actual                                       file\n",
      "533718 Location delimiter or quote      ( 'datasets/Chicago_Crimes_2005_to_2007.csv'\n",
      "\"Warning message:\n",
      "\"Missing column names filled in: 'X1' [1]\"Warning message:\n",
      "\"1 parsing failure.\n",
      "    row col   expected     actual                                       file\n",
      "1149093  -- 23 columns 41 columns 'datasets/Chicago_Crimes_2008_to_2011.csv'\n",
      "\"Warning message:\n",
      "\"Missing column names filled in: 'X1' [1]\"Removing duplicates (ID and Case Number)...\n",
      "duplicates removed: 89348\n",
      "Removing NAs...\n",
      "length before NA removal: 1834168\n",
      "length after NA removal: 1219269\n",
      "Removing unecessary columns...\n",
      "Removing irrelevant crimes before sampling...\n",
      "irrelevant crimes removed before sampling: 77\n",
      "Sampling...\n",
      "Lines before sampling: 1219192\n",
      "irrelevant crimes removed after sampling: 0\n",
      "Lines after sampling: 304798\n",
      "Removing duplicates (ID and Case Number)...\n",
      "duplicates removed: 533761\n",
      "Removing NAs...\n",
      "length before NA removal: 1338583\n",
      "length after NA removal: 1338322\n",
      "Removing unecessary columns...\n",
      "Removing irrelevant crimes before sampling...\n",
      "irrelevant crimes removed before sampling: 100\n",
      "Sampling...\n",
      "Lines before sampling: 1338222\n",
      "irrelevant crimes removed after sampling: 0\n",
      "Lines after sampling: 334556\n",
      "Removing duplicates (ID and Case Number)...\n",
      "duplicates removed: 1147586\n",
      "Removing NAs...\n",
      "length before NA removal: 1541125\n",
      "length after NA removal: 1540296\n",
      "Removing unecessary columns...\n",
      "Removing irrelevant crimes before sampling...\n",
      "irrelevant crimes removed before sampling: 66\n",
      "Sampling...\n",
      "Lines before sampling: 1540230\n",
      "irrelevant crimes removed after sampling: 0\n",
      "Lines after sampling: 385058\n",
      "Removing duplicates (ID and Case Number)...\n",
      "duplicates removed: 115\n",
      "Removing NAs...\n",
      "length before NA removal: 1456599\n",
      "length after NA removal: 1456559\n",
      "Removing unecessary columns...\n",
      "Removing irrelevant crimes before sampling...\n",
      "irrelevant crimes removed before sampling: 162\n",
      "Sampling...\n",
      "Lines before sampling: 1456397\n",
      "irrelevant crimes removed after sampling: 15\n",
      "Lines after sampling: 364085\n"
     ]
    }
   ],
   "source": [
    "cols_to_rm = c(1:2, 4:5, 12:17, 19:22)\n",
    "return_list = supressMessages(get_complete_sample(files.read = TRUE, cols.rm = cols_to_rm, irrelevant.perc = 0, \n",
    "                                      na.rm = TRUE, na.relevant = c(\"Community_Area\")))"
   ]
  },
  {
   "cell_type": "markdown",
   "metadata": {},
   "source": [
    "#### **Primeiro nivel:** Quantidade de crimes para cada beat no ano 2017 e a sua evolução temporal nos outros anos"
   ]
  },
  {
   "cell_type": "code",
   "execution_count": 12,
   "metadata": {},
   "outputs": [
    {
     "data": {
      "text/html": [
       "<table>\n",
       "<thead><tr><th scope=col>Date</th><th scope=col>Primary_Type</th><th scope=col>Description</th><th scope=col>Location_Description</th><th scope=col>Arrest</th><th scope=col>Domestic</th><th scope=col>Beat</th><th scope=col>Year</th></tr></thead>\n",
       "<tbody>\n",
       "\t<tr><td>01/01/2004 12:01:00 AM        </td><td>THEFT                         </td><td>FINANCIAL ID THEFT: OVER $300 </td><td>RESIDENCE                     </td><td>FALSE                         </td><td>FALSE                         </td><td> 424                          </td><td>2004                          </td></tr>\n",
       "\t<tr><td>05/01/2003 01:00:00 AM                                            </td><td><span style=white-space:pre-wrap>THEFT                     </span></td><td>FINANCIAL ID THEFT:$300 &amp;UNDER                                </td><td>RESIDENCE                                                         </td><td>FALSE                                                             </td><td>FALSE                                                             </td><td>2233                                                              </td><td>2003                                                              </td></tr>\n",
       "\t<tr><td>09/16/2004 10:00:00 AM        </td><td>THEFT                         </td><td>FROM BUILDING                 </td><td>RESIDENCE                     </td><td>FALSE                         </td><td>FALSE                         </td><td>1831                          </td><td>2004                          </td></tr>\n",
       "\t<tr><td>01/01/2003 12:00:00 AM        </td><td>THEFT                         </td><td>FINANCIAL ID THEFT: OVER $300 </td><td>RESIDENCE                     </td><td>FALSE                         </td><td>FALSE                         </td><td> 813                          </td><td>2003                          </td></tr>\n",
       "\t<tr><td>01/02/2003 08:00:00 AM        </td><td>THEFT                         </td><td>FINANCIAL ID THEFT: OVER $300 </td><td>RESIDENCE                     </td><td>FALSE                         </td><td>FALSE                         </td><td>1422                          </td><td>2003                          </td></tr>\n",
       "\t<tr><td>06/16/2001 08:00:00 AM        </td><td>OFFENSE INVOLVING CHILDREN    </td><td>AGG SEX ASSLT OF CHILD FAM MBR</td><td>RESIDENCE                     </td><td> TRUE                         </td><td>FALSE                         </td><td> 726                          </td><td>2001                          </td></tr>\n",
       "</tbody>\n",
       "</table>\n"
      ],
      "text/latex": [
       "\\begin{tabular}{r|llllllll}\n",
       " Date & Primary\\_Type & Description & Location\\_Description & Arrest & Domestic & Beat & Year\\\\\n",
       "\\hline\n",
       "\t 01/01/2004 12:01:00 AM           & THEFT                            & FINANCIAL ID THEFT: OVER \\$300  & RESIDENCE                        & FALSE                            & FALSE                            &  424                             & 2004                            \\\\\n",
       "\t 05/01/2003 01:00:00 AM             & THEFT                              & FINANCIAL ID THEFT:\\$300 \\&UNDER & RESIDENCE                          & FALSE                              & FALSE                              & 2233                               & 2003                              \\\\\n",
       "\t 09/16/2004 10:00:00 AM         & THEFT                          & FROM BUILDING                  & RESIDENCE                      & FALSE                          & FALSE                          & 1831                           & 2004                          \\\\\n",
       "\t 01/01/2003 12:00:00 AM           & THEFT                            & FINANCIAL ID THEFT: OVER \\$300  & RESIDENCE                        & FALSE                            & FALSE                            &  813                             & 2003                            \\\\\n",
       "\t 01/02/2003 08:00:00 AM           & THEFT                            & FINANCIAL ID THEFT: OVER \\$300  & RESIDENCE                        & FALSE                            & FALSE                            & 1422                             & 2003                            \\\\\n",
       "\t 06/16/2001 08:00:00 AM         & OFFENSE INVOLVING CHILDREN     & AGG SEX ASSLT OF CHILD FAM MBR & RESIDENCE                      &  TRUE                          & FALSE                          &  726                           & 2001                          \\\\\n",
       "\\end{tabular}\n"
      ],
      "text/markdown": [
       "\n",
       "| Date | Primary_Type | Description | Location_Description | Arrest | Domestic | Beat | Year |\n",
       "|---|---|---|---|---|---|---|---|\n",
       "| 01/01/2004 12:01:00 AM         | THEFT                          | FINANCIAL ID THEFT: OVER $300  | RESIDENCE                      | FALSE                          | FALSE                          |  424                           | 2004                           |\n",
       "| 05/01/2003 01:00:00 AM         | THEFT                          | FINANCIAL ID THEFT:$300 &UNDER | RESIDENCE                      | FALSE                          | FALSE                          | 2233                           | 2003                           |\n",
       "| 09/16/2004 10:00:00 AM         | THEFT                          | FROM BUILDING                  | RESIDENCE                      | FALSE                          | FALSE                          | 1831                           | 2004                           |\n",
       "| 01/01/2003 12:00:00 AM         | THEFT                          | FINANCIAL ID THEFT: OVER $300  | RESIDENCE                      | FALSE                          | FALSE                          |  813                           | 2003                           |\n",
       "| 01/02/2003 08:00:00 AM         | THEFT                          | FINANCIAL ID THEFT: OVER $300  | RESIDENCE                      | FALSE                          | FALSE                          | 1422                           | 2003                           |\n",
       "| 06/16/2001 08:00:00 AM         | OFFENSE INVOLVING CHILDREN     | AGG SEX ASSLT OF CHILD FAM MBR | RESIDENCE                      |  TRUE                          | FALSE                          |  726                           | 2001                           |\n",
       "\n"
      ],
      "text/plain": [
       "  Date                   Primary_Type              \n",
       "1 01/01/2004 12:01:00 AM THEFT                     \n",
       "2 05/01/2003 01:00:00 AM THEFT                     \n",
       "3 09/16/2004 10:00:00 AM THEFT                     \n",
       "4 01/01/2003 12:00:00 AM THEFT                     \n",
       "5 01/02/2003 08:00:00 AM THEFT                     \n",
       "6 06/16/2001 08:00:00 AM OFFENSE INVOLVING CHILDREN\n",
       "  Description                    Location_Description Arrest Domestic Beat Year\n",
       "1 FINANCIAL ID THEFT: OVER $300  RESIDENCE            FALSE  FALSE     424 2004\n",
       "2 FINANCIAL ID THEFT:$300 &UNDER RESIDENCE            FALSE  FALSE    2233 2003\n",
       "3 FROM BUILDING                  RESIDENCE            FALSE  FALSE    1831 2004\n",
       "4 FINANCIAL ID THEFT: OVER $300  RESIDENCE            FALSE  FALSE     813 2003\n",
       "5 FINANCIAL ID THEFT: OVER $300  RESIDENCE            FALSE  FALSE    1422 2003\n",
       "6 AGG SEX ASSLT OF CHILD FAM MBR RESIDENCE             TRUE  FALSE     726 2001"
      ]
     },
     "metadata": {},
     "output_type": "display_data"
    }
   ],
   "source": [
    "sample = return_list$complete_sample\n",
    "head(sample)"
   ]
  },
  {
   "cell_type": "code",
   "execution_count": 48,
   "metadata": {},
   "outputs": [
    {
     "data": {
      "text/html": [
       "<table>\n",
       "<thead><tr><th scope=col>Date</th><th scope=col>Primary_Type</th><th scope=col>Description</th><th scope=col>Location_Description</th><th scope=col>Arrest</th><th scope=col>Domestic</th><th scope=col>Beat</th><th scope=col>Year</th></tr></thead>\n",
       "<tbody>\n",
       "\t<tr><td>01/01/2017 12:00:00 AM       </td><td>CRIMINAL DAMAGE              </td><td>TO VEHICLE                   </td><td>STREET                       </td><td>FALSE                        </td><td>FALSE                        </td><td> 324                         </td><td>2017                         </td></tr>\n",
       "\t<tr><td>01/01/2017 01:20:00 AM       </td><td>CRIMINAL DAMAGE              </td><td>TO PROPERTY                  </td><td>APARTMENT                    </td><td>FALSE                        </td><td>FALSE                        </td><td>1112                         </td><td>2017                         </td></tr>\n",
       "\t<tr><td>01/01/2017 01:20:00 AM       </td><td>CRIMINAL DAMAGE              </td><td>TO PROPERTY                  </td><td>RESIDENCE                    </td><td>FALSE                        </td><td>FALSE                        </td><td> 832                         </td><td>2017                         </td></tr>\n",
       "\t<tr><td>01/01/2017 12:13:00 AM       </td><td>CRIMINAL DAMAGE              </td><td>TO PROPERTY                  </td><td>APARTMENT                    </td><td>FALSE                        </td><td>FALSE                        </td><td>2524                         </td><td>2017                         </td></tr>\n",
       "\t<tr><td>01/01/2017 12:50:00 AM       </td><td>CRIMINAL DAMAGE              </td><td>TO VEHICLE                   </td><td>RESIDENTIAL YARD (FRONT/BACK)</td><td>FALSE                        </td><td>FALSE                        </td><td>2522                         </td><td>2017                         </td></tr>\n",
       "\t<tr><td>01/01/2017 01:37:00 AM       </td><td>CRIMINAL DAMAGE              </td><td>TO PROPERTY                  </td><td>RESTAURANT                   </td><td>FALSE                        </td><td>FALSE                        </td><td> 713                         </td><td>2017                         </td></tr>\n",
       "</tbody>\n",
       "</table>\n"
      ],
      "text/latex": [
       "\\begin{tabular}{r|llllllll}\n",
       " Date & Primary\\_Type & Description & Location\\_Description & Arrest & Domestic & Beat & Year\\\\\n",
       "\\hline\n",
       "\t 01/01/2017 12:00:00 AM        & CRIMINAL DAMAGE               & TO VEHICLE                    & STREET                        & FALSE                         & FALSE                         &  324                          & 2017                         \\\\\n",
       "\t 01/01/2017 01:20:00 AM        & CRIMINAL DAMAGE               & TO PROPERTY                   & APARTMENT                     & FALSE                         & FALSE                         & 1112                          & 2017                         \\\\\n",
       "\t 01/01/2017 01:20:00 AM        & CRIMINAL DAMAGE               & TO PROPERTY                   & RESIDENCE                     & FALSE                         & FALSE                         &  832                          & 2017                         \\\\\n",
       "\t 01/01/2017 12:13:00 AM        & CRIMINAL DAMAGE               & TO PROPERTY                   & APARTMENT                     & FALSE                         & FALSE                         & 2524                          & 2017                         \\\\\n",
       "\t 01/01/2017 12:50:00 AM        & CRIMINAL DAMAGE               & TO VEHICLE                    & RESIDENTIAL YARD (FRONT/BACK) & FALSE                         & FALSE                         & 2522                          & 2017                         \\\\\n",
       "\t 01/01/2017 01:37:00 AM        & CRIMINAL DAMAGE               & TO PROPERTY                   & RESTAURANT                    & FALSE                         & FALSE                         &  713                          & 2017                         \\\\\n",
       "\\end{tabular}\n"
      ],
      "text/markdown": [
       "\n",
       "| Date | Primary_Type | Description | Location_Description | Arrest | Domestic | Beat | Year |\n",
       "|---|---|---|---|---|---|---|---|\n",
       "| 01/01/2017 12:00:00 AM        | CRIMINAL DAMAGE               | TO VEHICLE                    | STREET                        | FALSE                         | FALSE                         |  324                          | 2017                          |\n",
       "| 01/01/2017 01:20:00 AM        | CRIMINAL DAMAGE               | TO PROPERTY                   | APARTMENT                     | FALSE                         | FALSE                         | 1112                          | 2017                          |\n",
       "| 01/01/2017 01:20:00 AM        | CRIMINAL DAMAGE               | TO PROPERTY                   | RESIDENCE                     | FALSE                         | FALSE                         |  832                          | 2017                          |\n",
       "| 01/01/2017 12:13:00 AM        | CRIMINAL DAMAGE               | TO PROPERTY                   | APARTMENT                     | FALSE                         | FALSE                         | 2524                          | 2017                          |\n",
       "| 01/01/2017 12:50:00 AM        | CRIMINAL DAMAGE               | TO VEHICLE                    | RESIDENTIAL YARD (FRONT/BACK) | FALSE                         | FALSE                         | 2522                          | 2017                          |\n",
       "| 01/01/2017 01:37:00 AM        | CRIMINAL DAMAGE               | TO PROPERTY                   | RESTAURANT                    | FALSE                         | FALSE                         |  713                          | 2017                          |\n",
       "\n"
      ],
      "text/plain": [
       "  Date                   Primary_Type    Description\n",
       "1 01/01/2017 12:00:00 AM CRIMINAL DAMAGE TO VEHICLE \n",
       "2 01/01/2017 01:20:00 AM CRIMINAL DAMAGE TO PROPERTY\n",
       "3 01/01/2017 01:20:00 AM CRIMINAL DAMAGE TO PROPERTY\n",
       "4 01/01/2017 12:13:00 AM CRIMINAL DAMAGE TO PROPERTY\n",
       "5 01/01/2017 12:50:00 AM CRIMINAL DAMAGE TO VEHICLE \n",
       "6 01/01/2017 01:37:00 AM CRIMINAL DAMAGE TO PROPERTY\n",
       "  Location_Description          Arrest Domestic Beat Year\n",
       "1 STREET                        FALSE  FALSE     324 2017\n",
       "2 APARTMENT                     FALSE  FALSE    1112 2017\n",
       "3 RESIDENCE                     FALSE  FALSE     832 2017\n",
       "4 APARTMENT                     FALSE  FALSE    2524 2017\n",
       "5 RESIDENTIAL YARD (FRONT/BACK) FALSE  FALSE    2522 2017\n",
       "6 RESTAURANT                    FALSE  FALSE     713 2017"
      ]
     },
     "metadata": {},
     "output_type": "display_data"
    },
    {
     "data": {
      "text/html": [
       "2812"
      ],
      "text/latex": [
       "2812"
      ],
      "text/markdown": [
       "2812"
      ],
      "text/plain": [
       "[1] 2812"
      ]
     },
     "metadata": {},
     "output_type": "display_data"
    }
   ],
   "source": [
    "beats_2017 = sample %>%\n",
    "    #group_by(Beat) %>%\n",
    "    filter(Year == 2017) #%>%\n",
    "    #tally(name = \"crime_count\")\n",
    "\n",
    "head(beats_2017)\n",
    "nrow(beats_2017)\n",
    "#max(beats_2017$crime_count)"
   ]
  },
  {
   "cell_type": "code",
   "execution_count": 52,
   "metadata": {},
   "outputs": [
    {
     "data": {
      "image/png": "[encoded data removed]",
      "text/plain": [
       "plot without title"
      ]
     },
     "metadata": {},
     "output_type": "display_data"
    }
   ],
   "source": [
    "ggplot(data = beats_2017, mapping = aes(x = factor(Beat))) +\n",
    "    geom_bar() +\n",
    "    scale_x_discrete(labels = NULL) +\n",
    "    labs(title = \"Crimes per beat\", y = \"number of crimes\", x = \"beat\")"
   ]
  }
 ],
 "metadata": {
  "kernelspec": {
   "display_name": "R [conda env:VD] *",
   "language": "R",
   "name": "conda-env-VD-r"
  },
  "language_info": {
   "codemirror_mode": "r",
   "file_extension": ".r",
   "mimetype": "text/x-r-source",
   "name": "R",
   "pygments_lexer": "r",
   "version": "3.6.1"
  }
 },
 "nbformat": 4,
 "nbformat_minor": 4
}
