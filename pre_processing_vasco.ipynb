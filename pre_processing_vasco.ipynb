{
 "cells": [
  {
   "cell_type": "markdown",
   "metadata": {},
   "source": [
    "# Inicialização e pré-processamento de dados\n",
    "\n",
    "## Manipulação de dados\n",
    "\n",
    "#### Guias:\n",
    "* [package dplyr](https://dplyr.tidyverse.org/)\n",
    "* [package apply](https://stackoverflow.com/questions/3505701/grouping-functions-tapply-by-aggregate-and-the-apply-family?rq=1)\n",
    "* [data.table vs dplyr](https://stackoverflow.com/questions/21435339/data-table-vs-dplyr-can-one-do-something-well-the-other-cant-or-does-poorly?rq=1)\n",
    "\n",
    "#### Sampling:\n",
    "\n",
    "Procedeu-se a um sampling de em que reduziu o dataset para 25% do seu tamanho original:\n",
    "    \n",
    "1. Calcular a percentagem de ocorrência de cada primary type no dataset completo.\n",
    "2. Proceder-se à sample de 25% do dataset.\n",
    "3. Calcular a percentagem de ocorrência de cada primary type no dataset partido.\n",
    "4. Comparar as percentagens de modo a perceber se a distribuição alterou muito.\n",
    "    \n",
    "[Porquê o sampling de 25%](https://www.researchgate.net/post/How_to_sample_a_smaller_data_set_from_a_very_large_data_set)?\n",
    "\n",
    "Para que o sampling fosse eficaz na redução do tempo de computação dos algoritmos são feitos **dois** samplings distintos:\n",
    "* Uma primeira sample que contém os dados necessários para a resposta a perguntas sobre os diferentes tipos de crimes, as localizações gerais, as suas relações, relevâncias e evolução temporal.\n",
    "* Uma segunda sample que permita responder a perguntas relacionadas com a localização geográfico e evolução temporal da mesma.\n",
    "\n",
    "## Bibliotecas necessárias:"
   ]
  },
  {
   "cell_type": "code",
   "execution_count": 2,
   "metadata": {},
   "outputs": [
    {
     "name": "stderr",
     "output_type": "stream",
     "text": [
      "Registered S3 methods overwritten by 'ggplot2':\n",
      "  method         from \n",
      "  [.quosures     rlang\n",
      "  c.quosures     rlang\n",
      "  print.quosures rlang\n",
      "Registered S3 method overwritten by 'rvest':\n",
      "  method            from\n",
      "  read_xml.response xml2\n",
      "-- \u001b[1mAttaching packages\u001b[22m --------------------------------------- tidyverse 1.2.1 --\n",
      "\u001b[32mv\u001b[39m \u001b[34mggplot2\u001b[39m 3.1.1       \u001b[32mv\u001b[39m \u001b[34mpurrr  \u001b[39m 0.3.2  \n",
      "\u001b[32mv\u001b[39m \u001b[34mtibble \u001b[39m 2.1.1       \u001b[32mv\u001b[39m \u001b[34mdplyr  \u001b[39m 0.8.0.\u001b[31m1\u001b[39m\n",
      "\u001b[32mv\u001b[39m \u001b[34mtidyr  \u001b[39m 0.8.3       \u001b[32mv\u001b[39m \u001b[34mstringr\u001b[39m 1.4.0  \n",
      "\u001b[32mv\u001b[39m \u001b[34mggplot2\u001b[39m 3.1.1       \u001b[32mv\u001b[39m \u001b[34mforcats\u001b[39m 0.4.0  \n",
      "-- \u001b[1mConflicts\u001b[22m ------------------------------------------ tidyverse_conflicts() --\n",
      "\u001b[31mx\u001b[39m \u001b[34mdplyr\u001b[39m::\u001b[32mbetween()\u001b[39m   masks \u001b[34mdata.table\u001b[39m::between()\n",
      "\u001b[31mx\u001b[39m \u001b[34mdplyr\u001b[39m::\u001b[32mfilter()\u001b[39m    masks \u001b[34mstats\u001b[39m::filter()\n",
      "\u001b[31mx\u001b[39m \u001b[34mdplyr\u001b[39m::\u001b[32mfirst()\u001b[39m     masks \u001b[34mdata.table\u001b[39m::first()\n",
      "\u001b[31mx\u001b[39m \u001b[34mdplyr\u001b[39m::\u001b[32mlag()\u001b[39m       masks \u001b[34mstats\u001b[39m::lag()\n",
      "\u001b[31mx\u001b[39m \u001b[34mdplyr\u001b[39m::\u001b[32mlast()\u001b[39m      masks \u001b[34mdata.table\u001b[39m::last()\n",
      "\u001b[31mx\u001b[39m \u001b[34mpurrr\u001b[39m::\u001b[32mtranspose()\u001b[39m masks \u001b[34mdata.table\u001b[39m::transpose()\n"
     ]
    }
   ],
   "source": [
    "require(data.table) #fread / apply\n",
    "library(tidyverse) #readr / dplyr / ggplot2"
   ]
  },
  {
   "cell_type": "markdown",
   "metadata": {},
   "source": [
    "## Leitura de dados:\n",
    "Leitura dos diferentes ficheiros utilizando *read_csv* com indicação de tipos de colunas (para melhoria de tempo de leitura)"
   ]
  },
  {
   "cell_type": "code",
   "execution_count": 3,
   "metadata": {},
   "outputs": [
    {
     "name": "stderr",
     "output_type": "stream",
     "text": [
      "Warning message:\n",
      "\"Missing column names filled in: 'X1' [1]\"Warning message:\n",
      "\"14 parsing failures.\n",
      "    row      col           expected               actual                                       file\n",
      "1513590 Arrest   1/0/T/F/TRUE/FALSE Location Description 'datasets/Chicago_Crimes_2001_to_2004.csv'\n",
      "1513590 Domestic 1/0/T/F/TRUE/FALSE Arrest               'datasets/Chicago_Crimes_2001_to_2004.csv'\n",
      "1513590 Beat     an integer         Domestic             'datasets/Chicago_Crimes_2001_to_2004.csv'\n",
      "1513590 District a number           Beat                 'datasets/Chicago_Crimes_2001_to_2004.csv'\n",
      "1513590 Ward     a number           District             'datasets/Chicago_Crimes_2001_to_2004.csv'\n",
      "....... ........ .................. .................... ..........................................\n",
      "See problems(...) for more details.\n",
      "\"Warning message:\n",
      "\"Missing column names filled in: 'X1' [1]\"Warning message:\n",
      "\"1 parsing failure.\n",
      "   row      col           expected actual                                       file\n",
      "533718 Location delimiter or quote      ( 'datasets/Chicago_Crimes_2005_to_2007.csv'\n",
      "\"Warning message:\n",
      "\"Missing column names filled in: 'X1' [1]\"Warning message:\n",
      "\"1 parsing failure.\n",
      "    row col   expected     actual                                       file\n",
      "1149093  -- 23 columns 41 columns 'datasets/Chicago_Crimes_2008_to_2011.csv'\n",
      "\"Warning message:\n",
      "\"Missing column names filled in: 'X1' [1]\""
     ]
    }
   ],
   "source": [
    "types = \"iic?cccccllinnncnni?nn?\"\n",
    "  \n",
    "crimes_2001_2004 = read_csv(file = \"datasets/Chicago_Crimes_2001_to_2004.csv\", col_types = types)\n",
    "crimes_2005_2007 = read_csv(file = \"datasets/Chicago_Crimes_2005_to_2007.csv\", col_types = types)\n",
    "crimes_2008_2011 = read_csv(file = \"datasets/Chicago_Crimes_2008_to_2011.csv\", col_types = types)\n",
    "crimes_2012_2017 = read_csv(file = \"datasets/Chicago_Crimes_2012_to_2017.csv\", col_types = types)"
   ]
  },
  {
   "cell_type": "markdown",
   "metadata": {},
   "source": [
    "Eliminação de coluna inútil:"
   ]
  },
  {
   "cell_type": "code",
   "execution_count": 4,
   "metadata": {},
   "outputs": [
    {
     "data": {
      "text/html": [
       "<table>\n",
       "<thead><tr><th scope=col>ID</th><th scope=col>Case Number</th><th scope=col>Date</th><th scope=col>Block</th><th scope=col>IUCR</th><th scope=col>Primary Type</th><th scope=col>Description</th><th scope=col>Location Description</th><th scope=col>Arrest</th><th scope=col>Domestic</th><th scope=col>...</th><th scope=col>Ward</th><th scope=col>Community Area</th><th scope=col>FBI Code</th><th scope=col>X Coordinate</th><th scope=col>Y Coordinate</th><th scope=col>Year</th><th scope=col>Updated On</th><th scope=col>Latitude</th><th scope=col>Longitude</th><th scope=col>Location</th></tr></thead>\n",
       "<tbody>\n",
       "\t<tr><td>4786321                       </td><td>HM399414                      </td><td>01/01/2004 12:01:00 AM        </td><td>082XX S COLES AVE             </td><td>0840                          </td><td>THEFT                         </td><td>FINANCIAL ID THEFT: OVER $300 </td><td>RESIDENCE                     </td><td>FALSE                         </td><td>FALSE                         </td><td>...                           </td><td> 7                            </td><td>46                            </td><td>06                            </td><td>     NA                       </td><td>     NA                       </td><td>2004                          </td><td>08/17/2015 03:03:40 PM        </td><td>      NA                      </td><td>       NA                     </td><td>NA                            </td></tr>\n",
       "\t<tr><td>4676906                       </td><td>HM278933                      </td><td>03/01/2003 12:00:00 AM        </td><td>004XX W 42ND PL               </td><td>2825                          </td><td>OTHER OFFENSE                 </td><td>HARASSMENT BY TELEPHONE       </td><td>RESIDENCE                     </td><td>FALSE                         </td><td> TRUE                         </td><td>...                           </td><td>11                            </td><td>61                            </td><td>26                            </td><td>1173974                       </td><td>1876757                       </td><td>2003                          </td><td>04/15/2016 08:55:02 AM        </td><td>41.81723                      </td><td>-87.63733                     </td><td>(41.817229156, -87.637328162) </td></tr>\n",
       "\t<tr><td>4789749                       </td><td>HM402220                      </td><td>06/20/2004 11:00:00 AM        </td><td>025XX N KIMBALL AVE           </td><td>1752                          </td><td>OFFENSE INVOLVING CHILDREN    </td><td>AGG CRIM SEX ABUSE FAM MEMBER </td><td>RESIDENCE                     </td><td>FALSE                         </td><td>FALSE                         </td><td>...                           </td><td>35                            </td><td>22                            </td><td>20                            </td><td>     NA                       </td><td>     NA                       </td><td>2004                          </td><td>08/17/2015 03:03:40 PM        </td><td>      NA                      </td><td>       NA                     </td><td>NA                            </td></tr>\n",
       "\t<tr><td>4789765                       </td><td>HM402058                      </td><td>12/30/2004 08:00:00 PM        </td><td>045XX W MONTANA ST            </td><td>0840                          </td><td>THEFT                         </td><td>FINANCIAL ID THEFT: OVER $300 </td><td>OTHER                         </td><td>FALSE                         </td><td>FALSE                         </td><td>...                           </td><td>31                            </td><td>20                            </td><td>06                            </td><td>     NA                       </td><td>     NA                       </td><td>2004                          </td><td>08/17/2015 03:03:40 PM        </td><td>      NA                      </td><td>       NA                     </td><td>NA                            </td></tr>\n",
       "\t<tr><td>4677901                                                           </td><td>HM275615                                                          </td><td>05/01/2003 01:00:00 AM                                            </td><td>111XX S NORMAL AVE                                                </td><td>0841                                                              </td><td><span style=white-space:pre-wrap>THEFT                     </span></td><td>FINANCIAL ID THEFT:$300 &amp;UNDER                                </td><td>RESIDENCE                                                         </td><td>FALSE                                                             </td><td>FALSE                                                             </td><td>...                                                               </td><td>34                                                                </td><td>49                                                                </td><td>06                                                                </td><td>1174948                                                           </td><td>1831051                                                           </td><td>2003                                                              </td><td>04/15/2016 08:55:02 AM                                            </td><td>41.69178                                                          </td><td>-87.63512                                                         </td><td>(41.691784636, -87.635115968)                                     </td></tr>\n",
       "\t<tr><td>4838048                                                              </td><td>HM440266                                                             </td><td>08/01/2004 12:01:00 AM                                               </td><td>012XX S HARDING AVE                                                  </td><td>0841                                                                 </td><td><span style=white-space:pre-wrap>THEFT                     </span>   </td><td>FINANCIAL ID THEFT:$300 &amp;UNDER                                   </td><td>APARTMENT                                                            </td><td>FALSE                                                                </td><td>FALSE                                                                </td><td>...                                                                  </td><td>24                                                                   </td><td>29                                                                   </td><td>06                                                                   </td><td><span style=white-space:pre-wrap>     NA</span>                      </td><td><span style=white-space:pre-wrap>     NA</span>                      </td><td>2004                                                                 </td><td>08/17/2015 03:03:40 PM                                               </td><td><span style=white-space:pre-wrap>      NA</span>                     </td><td><span style=white-space:pre-wrap>       NA</span>                    </td><td><span style=white-space:pre-wrap>NA                           </span></td></tr>\n",
       "</tbody>\n",
       "</table>\n"
      ],
      "text/latex": [
       "\\begin{tabular}{r|llllllllllllllllllllll}\n",
       " ID & Case Number & Date & Block & IUCR & Primary Type & Description & Location Description & Arrest & Domestic & ... & Ward & Community Area & FBI Code & X Coordinate & Y Coordinate & Year & Updated On & Latitude & Longitude & Location\\\\\n",
       "\\hline\n",
       "\t 4786321                          & HM399414                         & 01/01/2004 12:01:00 AM           & 082XX S COLES AVE                & 0840                             & THEFT                            & FINANCIAL ID THEFT: OVER \\$300  & RESIDENCE                        & FALSE                            & FALSE                            & ...                              &  7                               & 46                               & 06                               &      NA                          &      NA                          & 2004                             & 08/17/2015 03:03:40 PM           &       NA                         &        NA                        & NA                              \\\\\n",
       "\t 4676906                        & HM278933                       & 03/01/2003 12:00:00 AM         & 004XX W 42ND PL                & 2825                           & OTHER OFFENSE                  & HARASSMENT BY TELEPHONE        & RESIDENCE                      & FALSE                          &  TRUE                          & ...                            & 11                             & 61                             & 26                             & 1173974                        & 1876757                        & 2003                           & 04/15/2016 08:55:02 AM         & 41.81723                       & -87.63733                      & (41.817229156, -87.637328162) \\\\\n",
       "\t 4789749                        & HM402220                       & 06/20/2004 11:00:00 AM         & 025XX N KIMBALL AVE            & 1752                           & OFFENSE INVOLVING CHILDREN     & AGG CRIM SEX ABUSE FAM MEMBER  & RESIDENCE                      & FALSE                          & FALSE                          & ...                            & 35                             & 22                             & 20                             &      NA                        &      NA                        & 2004                           & 08/17/2015 03:03:40 PM         &       NA                       &        NA                      & NA                            \\\\\n",
       "\t 4789765                          & HM402058                         & 12/30/2004 08:00:00 PM           & 045XX W MONTANA ST               & 0840                             & THEFT                            & FINANCIAL ID THEFT: OVER \\$300  & OTHER                            & FALSE                            & FALSE                            & ...                              & 31                               & 20                               & 06                               &      NA                          &      NA                          & 2004                             & 08/17/2015 03:03:40 PM           &       NA                         &        NA                        & NA                              \\\\\n",
       "\t 4677901                            & HM275615                           & 05/01/2003 01:00:00 AM             & 111XX S NORMAL AVE                 & 0841                               & THEFT                              & FINANCIAL ID THEFT:\\$300 \\&UNDER & RESIDENCE                          & FALSE                              & FALSE                              & ...                                & 34                                 & 49                                 & 06                                 & 1174948                            & 1831051                            & 2003                               & 04/15/2016 08:55:02 AM             & 41.69178                           & -87.63512                          & (41.691784636, -87.635115968)     \\\\\n",
       "\t 4838048                            & HM440266                           & 08/01/2004 12:01:00 AM             & 012XX S HARDING AVE                & 0841                               & THEFT                              & FINANCIAL ID THEFT:\\$300 \\&UNDER & APARTMENT                          & FALSE                              & FALSE                              & ...                                & 24                                 & 29                                 & 06                                 &      NA                            &      NA                            & 2004                               & 08/17/2015 03:03:40 PM             &       NA                           &        NA                          & NA                                \\\\\n",
       "\\end{tabular}\n"
      ],
      "text/markdown": [
       "\n",
       "| ID | Case Number | Date | Block | IUCR | Primary Type | Description | Location Description | Arrest | Domestic | ... | Ward | Community Area | FBI Code | X Coordinate | Y Coordinate | Year | Updated On | Latitude | Longitude | Location |\n",
       "|---|---|---|---|---|---|---|---|---|---|---|---|---|---|---|---|---|---|---|---|---|\n",
       "| 4786321                        | HM399414                       | 01/01/2004 12:01:00 AM         | 082XX S COLES AVE              | 0840                           | THEFT                          | FINANCIAL ID THEFT: OVER $300  | RESIDENCE                      | FALSE                          | FALSE                          | ...                            |  7                             | 46                             | 06                             |      NA                        |      NA                        | 2004                           | 08/17/2015 03:03:40 PM         |       NA                       |        NA                      | NA                             |\n",
       "| 4676906                        | HM278933                       | 03/01/2003 12:00:00 AM         | 004XX W 42ND PL                | 2825                           | OTHER OFFENSE                  | HARASSMENT BY TELEPHONE        | RESIDENCE                      | FALSE                          |  TRUE                          | ...                            | 11                             | 61                             | 26                             | 1173974                        | 1876757                        | 2003                           | 04/15/2016 08:55:02 AM         | 41.81723                       | -87.63733                      | (41.817229156, -87.637328162)  |\n",
       "| 4789749                        | HM402220                       | 06/20/2004 11:00:00 AM         | 025XX N KIMBALL AVE            | 1752                           | OFFENSE INVOLVING CHILDREN     | AGG CRIM SEX ABUSE FAM MEMBER  | RESIDENCE                      | FALSE                          | FALSE                          | ...                            | 35                             | 22                             | 20                             |      NA                        |      NA                        | 2004                           | 08/17/2015 03:03:40 PM         |       NA                       |        NA                      | NA                             |\n",
       "| 4789765                        | HM402058                       | 12/30/2004 08:00:00 PM         | 045XX W MONTANA ST             | 0840                           | THEFT                          | FINANCIAL ID THEFT: OVER $300  | OTHER                          | FALSE                          | FALSE                          | ...                            | 31                             | 20                             | 06                             |      NA                        |      NA                        | 2004                           | 08/17/2015 03:03:40 PM         |       NA                       |        NA                      | NA                             |\n",
       "| 4677901                        | HM275615                       | 05/01/2003 01:00:00 AM         | 111XX S NORMAL AVE             | 0841                           | THEFT                          | FINANCIAL ID THEFT:$300 &UNDER | RESIDENCE                      | FALSE                          | FALSE                          | ...                            | 34                             | 49                             | 06                             | 1174948                        | 1831051                        | 2003                           | 04/15/2016 08:55:02 AM         | 41.69178                       | -87.63512                      | (41.691784636, -87.635115968)  |\n",
       "| 4838048                        | HM440266                       | 08/01/2004 12:01:00 AM         | 012XX S HARDING AVE            | 0841                           | THEFT                          | FINANCIAL ID THEFT:$300 &UNDER | APARTMENT                      | FALSE                          | FALSE                          | ...                            | 24                             | 29                             | 06                             |      NA                        |      NA                        | 2004                           | 08/17/2015 03:03:40 PM         |       NA                       |        NA                      | NA                             |\n",
       "\n"
      ],
      "text/plain": [
       "  ID      Case Number Date                   Block               IUCR\n",
       "1 4786321 HM399414    01/01/2004 12:01:00 AM 082XX S COLES AVE   0840\n",
       "2 4676906 HM278933    03/01/2003 12:00:00 AM 004XX W 42ND PL     2825\n",
       "3 4789749 HM402220    06/20/2004 11:00:00 AM 025XX N KIMBALL AVE 1752\n",
       "4 4789765 HM402058    12/30/2004 08:00:00 PM 045XX W MONTANA ST  0840\n",
       "5 4677901 HM275615    05/01/2003 01:00:00 AM 111XX S NORMAL AVE  0841\n",
       "6 4838048 HM440266    08/01/2004 12:01:00 AM 012XX S HARDING AVE 0841\n",
       "  Primary Type               Description                   \n",
       "1 THEFT                      FINANCIAL ID THEFT: OVER $300 \n",
       "2 OTHER OFFENSE              HARASSMENT BY TELEPHONE       \n",
       "3 OFFENSE INVOLVING CHILDREN AGG CRIM SEX ABUSE FAM MEMBER \n",
       "4 THEFT                      FINANCIAL ID THEFT: OVER $300 \n",
       "5 THEFT                      FINANCIAL ID THEFT:$300 &UNDER\n",
       "6 THEFT                      FINANCIAL ID THEFT:$300 &UNDER\n",
       "  Location Description Arrest Domestic ... Ward Community Area FBI Code\n",
       "1 RESIDENCE            FALSE  FALSE    ...  7   46             06      \n",
       "2 RESIDENCE            FALSE   TRUE    ... 11   61             26      \n",
       "3 RESIDENCE            FALSE  FALSE    ... 35   22             20      \n",
       "4 OTHER                FALSE  FALSE    ... 31   20             06      \n",
       "5 RESIDENCE            FALSE  FALSE    ... 34   49             06      \n",
       "6 APARTMENT            FALSE  FALSE    ... 24   29             06      \n",
       "  X Coordinate Y Coordinate Year Updated On             Latitude Longitude\n",
       "1      NA           NA      2004 08/17/2015 03:03:40 PM       NA        NA\n",
       "2 1173974      1876757      2003 04/15/2016 08:55:02 AM 41.81723 -87.63733\n",
       "3      NA           NA      2004 08/17/2015 03:03:40 PM       NA        NA\n",
       "4      NA           NA      2004 08/17/2015 03:03:40 PM       NA        NA\n",
       "5 1174948      1831051      2003 04/15/2016 08:55:02 AM 41.69178 -87.63512\n",
       "6      NA           NA      2004 08/17/2015 03:03:40 PM       NA        NA\n",
       "  Location                     \n",
       "1 NA                           \n",
       "2 (41.817229156, -87.637328162)\n",
       "3 NA                           \n",
       "4 NA                           \n",
       "5 (41.691784636, -87.635115968)\n",
       "6 NA                           "
      ]
     },
     "metadata": {},
     "output_type": "display_data"
    }
   ],
   "source": [
    "crimes_2001_2004 = crimes_2001_2004[, !(names(crimes_2001_2004) %in% \"X1\")]\n",
    "crimes_2005_2007 = crimes_2005_2007[, !(names(crimes_2005_2007) %in% \"X1\")]\n",
    "crimes_2008_2011 = crimes_2008_2011[, !(names(crimes_2008_2011) %in% \"X1\")]\n",
    "crimes_2012_2017 = crimes_2012_2017[, !(names(crimes_2012_2017) %in% \"X1\")]\n",
    "head(crimes_2001_2004)"
   ]
  },
  {
   "cell_type": "markdown",
   "metadata": {},
   "source": [
    "## Sampling do dataset\n",
    "\n",
    "* Eliminação colunas que não serão utilizadas para responder a perguntas sobre os crimes, sem ter em conta a localização.\n",
    "* Tabelas de frequência das diferentes ativiades criminais existentes.\n",
    "* Redução do dataset para 25% do seu tamanho.\n",
    "* Teste à igualdade entre as duas distribuições. (dar valores numéricos aos Primary Type e proceder a testes de hipótese à mediana)\n",
    "\n",
    "Esta sample será a **primeira** das duas samples que serão feitas.\n",
    "\n",
    "O dataset irá ficar com as colunas **Date**, **Primary_Type**, **Description**, **Location_Description**, **Arrest**, **Domestic**, **District** e **Year**."
   ]
  },
  {
   "cell_type": "code",
   "execution_count": 18,
   "metadata": {},
   "outputs": [
    {
     "data": {
      "text/html": [
       "<table>\n",
       "<thead><tr><th scope=col>Type</th><th scope=col>Freq</th><th scope=col>percent</th></tr></thead>\n",
       "<tbody>\n",
       "\t<tr><td>ARSON                           </td><td>  3828                          </td><td> 0.20                           </td></tr>\n",
       "\t<tr><td>ASSAULT                         </td><td>121417                          </td><td> 6.31                           </td></tr>\n",
       "\t<tr><td>BATTERY                         </td><td>363538                          </td><td>18.90                           </td></tr>\n",
       "\t<tr><td>BURGLARY                        </td><td>101902                          </td><td> 5.30                           </td></tr>\n",
       "\t<tr><td>CRIM SEXUAL ASSAULT             </td><td>  7079                          </td><td> 0.37                           </td></tr>\n",
       "\t<tr><td>CRIMINAL DAMAGE                 </td><td>220298                          </td><td>11.45                           </td></tr>\n",
       "\t<tr><td>CRIMINAL TRESPASS               </td><td> 57770                          </td><td> 3.00                           </td></tr>\n",
       "\t<tr><td>DECEPTIVE PRACTICE              </td><td> 55751                          </td><td> 2.90                           </td></tr>\n",
       "\t<tr><td>GAMBLING                        </td><td>  4051                          </td><td> 0.21                           </td></tr>\n",
       "\t<tr><td>HOMICIDE                        </td><td>  3172                          </td><td> 0.16                           </td></tr>\n",
       "\t<tr><td>INTERFERENCE WITH PUBLIC OFFICER</td><td>  1701                          </td><td> 0.09                           </td></tr>\n",
       "\t<tr><td>INTIMIDATION                    </td><td>  1312                          </td><td> 0.07                           </td></tr>\n",
       "\t<tr><td>KIDNAPPING                      </td><td>  3022                          </td><td> 0.16                           </td></tr>\n",
       "\t<tr><td>LIQUOR LAW VIOLATION            </td><td>  5384                          </td><td> 0.28                           </td></tr>\n",
       "\t<tr><td>MOTOR VEHICLE THEFT             </td><td> 98924                          </td><td> 5.14                           </td></tr>\n",
       "\t<tr><td>NARCOTICS                       </td><td>210600                          </td><td>10.95                           </td></tr>\n",
       "\t<tr><td>OFFENSE INVOLVING CHILDREN      </td><td> 11181                          </td><td> 0.58                           </td></tr>\n",
       "\t<tr><td>OTHER OFFENSE                   </td><td>123753                          </td><td> 6.43                           </td></tr>\n",
       "\t<tr><td>PROSTITUTION                    </td><td> 25666                          </td><td> 1.33                           </td></tr>\n",
       "\t<tr><td>PUBLIC PEACE VIOLATION          </td><td> 10145                          </td><td> 0.53                           </td></tr>\n",
       "\t<tr><td>ROBBERY                         </td><td> 70986                          </td><td> 3.69                           </td></tr>\n",
       "\t<tr><td>SEX OFFENSE                     </td><td>  8535                          </td><td> 0.44                           </td></tr>\n",
       "\t<tr><td>STALKING                        </td><td>   868                          </td><td> 0.05                           </td></tr>\n",
       "\t<tr><td>THEFT                           </td><td>395395                          </td><td>20.56                           </td></tr>\n",
       "\t<tr><td>WEAPONS VIOLATION               </td><td> 17094                          </td><td> 0.89                           </td></tr>\n",
       "</tbody>\n",
       "</table>\n"
      ],
      "text/latex": [
       "\\begin{tabular}{r|lll}\n",
       " Type & Freq & percent\\\\\n",
       "\\hline\n",
       "\t ARSON                            &   3828                           &  0.20                           \\\\\n",
       "\t ASSAULT                          & 121417                           &  6.31                           \\\\\n",
       "\t BATTERY                          & 363538                           & 18.90                           \\\\\n",
       "\t BURGLARY                         & 101902                           &  5.30                           \\\\\n",
       "\t CRIM SEXUAL ASSAULT              &   7079                           &  0.37                           \\\\\n",
       "\t CRIMINAL DAMAGE                  & 220298                           & 11.45                           \\\\\n",
       "\t CRIMINAL TRESPASS                &  57770                           &  3.00                           \\\\\n",
       "\t DECEPTIVE PRACTICE               &  55751                           &  2.90                           \\\\\n",
       "\t GAMBLING                         &   4051                           &  0.21                           \\\\\n",
       "\t HOMICIDE                         &   3172                           &  0.16                           \\\\\n",
       "\t INTERFERENCE WITH PUBLIC OFFICER &   1701                           &  0.09                           \\\\\n",
       "\t INTIMIDATION                     &   1312                           &  0.07                           \\\\\n",
       "\t KIDNAPPING                       &   3022                           &  0.16                           \\\\\n",
       "\t LIQUOR LAW VIOLATION             &   5384                           &  0.28                           \\\\\n",
       "\t MOTOR VEHICLE THEFT              &  98924                           &  5.14                           \\\\\n",
       "\t NARCOTICS                        & 210600                           & 10.95                           \\\\\n",
       "\t OFFENSE INVOLVING CHILDREN       &  11181                           &  0.58                           \\\\\n",
       "\t OTHER OFFENSE                    & 123753                           &  6.43                           \\\\\n",
       "\t PROSTITUTION                     &  25666                           &  1.33                           \\\\\n",
       "\t PUBLIC PEACE VIOLATION           &  10145                           &  0.53                           \\\\\n",
       "\t ROBBERY                          &  70986                           &  3.69                           \\\\\n",
       "\t SEX OFFENSE                      &   8535                           &  0.44                           \\\\\n",
       "\t STALKING                         &    868                           &  0.05                           \\\\\n",
       "\t THEFT                            & 395395                           & 20.56                           \\\\\n",
       "\t WEAPONS VIOLATION                &  17094                           &  0.89                           \\\\\n",
       "\\end{tabular}\n"
      ],
      "text/markdown": [
       "\n",
       "| Type | Freq | percent |\n",
       "|---|---|---|\n",
       "| ARSON                            |   3828                           |  0.20                            |\n",
       "| ASSAULT                          | 121417                           |  6.31                            |\n",
       "| BATTERY                          | 363538                           | 18.90                            |\n",
       "| BURGLARY                         | 101902                           |  5.30                            |\n",
       "| CRIM SEXUAL ASSAULT              |   7079                           |  0.37                            |\n",
       "| CRIMINAL DAMAGE                  | 220298                           | 11.45                            |\n",
       "| CRIMINAL TRESPASS                |  57770                           |  3.00                            |\n",
       "| DECEPTIVE PRACTICE               |  55751                           |  2.90                            |\n",
       "| GAMBLING                         |   4051                           |  0.21                            |\n",
       "| HOMICIDE                         |   3172                           |  0.16                            |\n",
       "| INTERFERENCE WITH PUBLIC OFFICER |   1701                           |  0.09                            |\n",
       "| INTIMIDATION                     |   1312                           |  0.07                            |\n",
       "| KIDNAPPING                       |   3022                           |  0.16                            |\n",
       "| LIQUOR LAW VIOLATION             |   5384                           |  0.28                            |\n",
       "| MOTOR VEHICLE THEFT              |  98924                           |  5.14                            |\n",
       "| NARCOTICS                        | 210600                           | 10.95                            |\n",
       "| OFFENSE INVOLVING CHILDREN       |  11181                           |  0.58                            |\n",
       "| OTHER OFFENSE                    | 123753                           |  6.43                            |\n",
       "| PROSTITUTION                     |  25666                           |  1.33                            |\n",
       "| PUBLIC PEACE VIOLATION           |  10145                           |  0.53                            |\n",
       "| ROBBERY                          |  70986                           |  3.69                            |\n",
       "| SEX OFFENSE                      |   8535                           |  0.44                            |\n",
       "| STALKING                         |    868                           |  0.05                            |\n",
       "| THEFT                            | 395395                           | 20.56                            |\n",
       "| WEAPONS VIOLATION                |  17094                           |  0.89                            |\n",
       "\n"
      ],
      "text/plain": [
       "   Type                             Freq   percent\n",
       "1  ARSON                              3828  0.20  \n",
       "2  ASSAULT                          121417  6.31  \n",
       "3  BATTERY                          363538 18.90  \n",
       "4  BURGLARY                         101902  5.30  \n",
       "5  CRIM SEXUAL ASSAULT                7079  0.37  \n",
       "6  CRIMINAL DAMAGE                  220298 11.45  \n",
       "7  CRIMINAL TRESPASS                 57770  3.00  \n",
       "8  DECEPTIVE PRACTICE                55751  2.90  \n",
       "9  GAMBLING                           4051  0.21  \n",
       "10 HOMICIDE                           3172  0.16  \n",
       "11 INTERFERENCE WITH PUBLIC OFFICER   1701  0.09  \n",
       "12 INTIMIDATION                       1312  0.07  \n",
       "13 KIDNAPPING                         3022  0.16  \n",
       "14 LIQUOR LAW VIOLATION               5384  0.28  \n",
       "15 MOTOR VEHICLE THEFT               98924  5.14  \n",
       "16 NARCOTICS                        210600 10.95  \n",
       "17 OFFENSE INVOLVING CHILDREN        11181  0.58  \n",
       "18 OTHER OFFENSE                    123753  6.43  \n",
       "19 PROSTITUTION                      25666  1.33  \n",
       "20 PUBLIC PEACE VIOLATION            10145  0.53  \n",
       "21 ROBBERY                           70986  3.69  \n",
       "22 SEX OFFENSE                        8535  0.44  \n",
       "23 STALKING                            868  0.05  \n",
       "24 THEFT                            395395 20.56  \n",
       "25 WEAPONS VIOLATION                 17094  0.89  "
      ]
     },
     "metadata": {},
     "output_type": "display_data"
    }
   ],
   "source": [
    "#Eliminar colunas não necessárias\n",
    "non_sampled_2001_2004 = crimes_2001_2004[-c(1:2, 4:5, 11, 13:17, 19:22)]\n",
    "\n",
    "colnames(non_sampled_2001_2004)[2] = \"Primary_Type\"; colnames(non_sampled_2001_2004)[4] = \"Location_Description\"\n",
    "\n",
    "#Tipos de crime com percentagem 0:\n",
    "#DOMESTIC VIOLENCE / IUCR (erro no df) / NON-CRIMINAL / OBSCENITY / OTHER NARCOTIC VIOLATION / PUBLIC INDECENCY / RITUALISM\n",
    "non_sampled_2001_2004 = filter(non_sampled_2001_2004, !Primary_Type %in% c(\"DOMESTIC VIOLENCE\", \"IUCR\", \"NON-CRIMINAL\", \"OBSCENITY\", \"OTHER NARCOTIC VIOLATION\", \"PUBLIC INDECENCY\", \"RITUALISM\"))\n",
    "\n",
    "#Tabela de frequência do Primary_Type e Description\n",
    "sample_2001_2004_table = lapply(non_sampled_2001_2004[\"Primary_Type\"], table)\n",
    "\n",
    "crime_types = as.data.frame(sample_2001_2004_table$Primary_Type)\n",
    "colnames(crime_types)[1] = \"Type\"\n",
    "\n",
    "#options(\"scipen\"=100, \"digits\"=4) #não mostrar potencias de 10\n",
    "#percentagem de ocorrencia de cada crime\n",
    "crime_types = crime_types %>% \n",
    "  mutate(Type, percent = round((Freq / nrow(non_sampled_2001_2004)) * 100, 2))\n",
    "\n",
    "crime_types"
   ]
  },
  {
   "cell_type": "code",
   "execution_count": 19,
   "metadata": {},
   "outputs": [
    {
     "data": {
      "text/html": [
       "1923372"
      ],
      "text/latex": [
       "1923372"
      ],
      "text/markdown": [
       "1923372"
      ],
      "text/plain": [
       "[1] 1923372"
      ]
     },
     "metadata": {},
     "output_type": "display_data"
    },
    {
     "data": {
      "text/html": [
       "480843"
      ],
      "text/latex": [
       "480843"
      ],
      "text/markdown": [
       "480843"
      ],
      "text/plain": [
       "[1] 480843"
      ]
     },
     "metadata": {},
     "output_type": "display_data"
    },
    {
     "data": {
      "text/html": [
       "<table>\n",
       "<thead><tr><th scope=col>Type</th><th scope=col>Freq</th><th scope=col>percent</th></tr></thead>\n",
       "<tbody>\n",
       "\t<tr><td>ARSON                           </td><td>  967                           </td><td> 0.20                           </td></tr>\n",
       "\t<tr><td>ASSAULT                         </td><td>30315                           </td><td> 6.30                           </td></tr>\n",
       "\t<tr><td>BATTERY                         </td><td>90734                           </td><td>18.87                           </td></tr>\n",
       "\t<tr><td>BURGLARY                        </td><td>25436                           </td><td> 5.29                           </td></tr>\n",
       "\t<tr><td>CRIM SEXUAL ASSAULT             </td><td> 1701                           </td><td> 0.35                           </td></tr>\n",
       "\t<tr><td>CRIMINAL DAMAGE                 </td><td>55089                           </td><td>11.46                           </td></tr>\n",
       "\t<tr><td>CRIMINAL TRESPASS               </td><td>14342                           </td><td> 2.98                           </td></tr>\n",
       "\t<tr><td>DECEPTIVE PRACTICE              </td><td>13838                           </td><td> 2.88                           </td></tr>\n",
       "\t<tr><td>GAMBLING                        </td><td> 1007                           </td><td> 0.21                           </td></tr>\n",
       "\t<tr><td>HOMICIDE                        </td><td>  788                           </td><td> 0.16                           </td></tr>\n",
       "\t<tr><td>INTERFERENCE WITH PUBLIC OFFICER</td><td>  433                           </td><td> 0.09                           </td></tr>\n",
       "\t<tr><td>INTIMIDATION                    </td><td>  317                           </td><td> 0.07                           </td></tr>\n",
       "\t<tr><td>KIDNAPPING                      </td><td>  765                           </td><td> 0.16                           </td></tr>\n",
       "\t<tr><td>LIQUOR LAW VIOLATION            </td><td> 1313                           </td><td> 0.27                           </td></tr>\n",
       "\t<tr><td>MOTOR VEHICLE THEFT             </td><td>24842                           </td><td> 5.17                           </td></tr>\n",
       "\t<tr><td>NARCOTICS                       </td><td>52636                           </td><td>10.95                           </td></tr>\n",
       "\t<tr><td>OFFENSE INVOLVING CHILDREN      </td><td> 2824                           </td><td> 0.59                           </td></tr>\n",
       "\t<tr><td>OTHER OFFENSE                   </td><td>30679                           </td><td> 6.38                           </td></tr>\n",
       "\t<tr><td>PROSTITUTION                    </td><td> 6390                           </td><td> 1.33                           </td></tr>\n",
       "\t<tr><td>PUBLIC PEACE VIOLATION          </td><td> 2587                           </td><td> 0.54                           </td></tr>\n",
       "\t<tr><td>ROBBERY                         </td><td>17849                           </td><td> 3.71                           </td></tr>\n",
       "\t<tr><td>SEX OFFENSE                     </td><td> 2146                           </td><td> 0.45                           </td></tr>\n",
       "\t<tr><td>STALKING                        </td><td>  228                           </td><td> 0.05                           </td></tr>\n",
       "\t<tr><td>THEFT                           </td><td>99252                           </td><td>20.64                           </td></tr>\n",
       "\t<tr><td>WEAPONS VIOLATION               </td><td> 4365                           </td><td> 0.91                           </td></tr>\n",
       "</tbody>\n",
       "</table>\n"
      ],
      "text/latex": [
       "\\begin{tabular}{r|lll}\n",
       " Type & Freq & percent\\\\\n",
       "\\hline\n",
       "\t ARSON                            &   967                            &  0.20                           \\\\\n",
       "\t ASSAULT                          & 30315                            &  6.30                           \\\\\n",
       "\t BATTERY                          & 90734                            & 18.87                           \\\\\n",
       "\t BURGLARY                         & 25436                            &  5.29                           \\\\\n",
       "\t CRIM SEXUAL ASSAULT              &  1701                            &  0.35                           \\\\\n",
       "\t CRIMINAL DAMAGE                  & 55089                            & 11.46                           \\\\\n",
       "\t CRIMINAL TRESPASS                & 14342                            &  2.98                           \\\\\n",
       "\t DECEPTIVE PRACTICE               & 13838                            &  2.88                           \\\\\n",
       "\t GAMBLING                         &  1007                            &  0.21                           \\\\\n",
       "\t HOMICIDE                         &   788                            &  0.16                           \\\\\n",
       "\t INTERFERENCE WITH PUBLIC OFFICER &   433                            &  0.09                           \\\\\n",
       "\t INTIMIDATION                     &   317                            &  0.07                           \\\\\n",
       "\t KIDNAPPING                       &   765                            &  0.16                           \\\\\n",
       "\t LIQUOR LAW VIOLATION             &  1313                            &  0.27                           \\\\\n",
       "\t MOTOR VEHICLE THEFT              & 24842                            &  5.17                           \\\\\n",
       "\t NARCOTICS                        & 52636                            & 10.95                           \\\\\n",
       "\t OFFENSE INVOLVING CHILDREN       &  2824                            &  0.59                           \\\\\n",
       "\t OTHER OFFENSE                    & 30679                            &  6.38                           \\\\\n",
       "\t PROSTITUTION                     &  6390                            &  1.33                           \\\\\n",
       "\t PUBLIC PEACE VIOLATION           &  2587                            &  0.54                           \\\\\n",
       "\t ROBBERY                          & 17849                            &  3.71                           \\\\\n",
       "\t SEX OFFENSE                      &  2146                            &  0.45                           \\\\\n",
       "\t STALKING                         &   228                            &  0.05                           \\\\\n",
       "\t THEFT                            & 99252                            & 20.64                           \\\\\n",
       "\t WEAPONS VIOLATION                &  4365                            &  0.91                           \\\\\n",
       "\\end{tabular}\n"
      ],
      "text/markdown": [
       "\n",
       "| Type | Freq | percent |\n",
       "|---|---|---|\n",
       "| ARSON                            |   967                            |  0.20                            |\n",
       "| ASSAULT                          | 30315                            |  6.30                            |\n",
       "| BATTERY                          | 90734                            | 18.87                            |\n",
       "| BURGLARY                         | 25436                            |  5.29                            |\n",
       "| CRIM SEXUAL ASSAULT              |  1701                            |  0.35                            |\n",
       "| CRIMINAL DAMAGE                  | 55089                            | 11.46                            |\n",
       "| CRIMINAL TRESPASS                | 14342                            |  2.98                            |\n",
       "| DECEPTIVE PRACTICE               | 13838                            |  2.88                            |\n",
       "| GAMBLING                         |  1007                            |  0.21                            |\n",
       "| HOMICIDE                         |   788                            |  0.16                            |\n",
       "| INTERFERENCE WITH PUBLIC OFFICER |   433                            |  0.09                            |\n",
       "| INTIMIDATION                     |   317                            |  0.07                            |\n",
       "| KIDNAPPING                       |   765                            |  0.16                            |\n",
       "| LIQUOR LAW VIOLATION             |  1313                            |  0.27                            |\n",
       "| MOTOR VEHICLE THEFT              | 24842                            |  5.17                            |\n",
       "| NARCOTICS                        | 52636                            | 10.95                            |\n",
       "| OFFENSE INVOLVING CHILDREN       |  2824                            |  0.59                            |\n",
       "| OTHER OFFENSE                    | 30679                            |  6.38                            |\n",
       "| PROSTITUTION                     |  6390                            |  1.33                            |\n",
       "| PUBLIC PEACE VIOLATION           |  2587                            |  0.54                            |\n",
       "| ROBBERY                          | 17849                            |  3.71                            |\n",
       "| SEX OFFENSE                      |  2146                            |  0.45                            |\n",
       "| STALKING                         |   228                            |  0.05                            |\n",
       "| THEFT                            | 99252                            | 20.64                            |\n",
       "| WEAPONS VIOLATION                |  4365                            |  0.91                            |\n",
       "\n"
      ],
      "text/plain": [
       "   Type                             Freq  percent\n",
       "1  ARSON                              967  0.20  \n",
       "2  ASSAULT                          30315  6.30  \n",
       "3  BATTERY                          90734 18.87  \n",
       "4  BURGLARY                         25436  5.29  \n",
       "5  CRIM SEXUAL ASSAULT               1701  0.35  \n",
       "6  CRIMINAL DAMAGE                  55089 11.46  \n",
       "7  CRIMINAL TRESPASS                14342  2.98  \n",
       "8  DECEPTIVE PRACTICE               13838  2.88  \n",
       "9  GAMBLING                          1007  0.21  \n",
       "10 HOMICIDE                           788  0.16  \n",
       "11 INTERFERENCE WITH PUBLIC OFFICER   433  0.09  \n",
       "12 INTIMIDATION                       317  0.07  \n",
       "13 KIDNAPPING                         765  0.16  \n",
       "14 LIQUOR LAW VIOLATION              1313  0.27  \n",
       "15 MOTOR VEHICLE THEFT              24842  5.17  \n",
       "16 NARCOTICS                        52636 10.95  \n",
       "17 OFFENSE INVOLVING CHILDREN        2824  0.59  \n",
       "18 OTHER OFFENSE                    30679  6.38  \n",
       "19 PROSTITUTION                      6390  1.33  \n",
       "20 PUBLIC PEACE VIOLATION            2587  0.54  \n",
       "21 ROBBERY                          17849  3.71  \n",
       "22 SEX OFFENSE                       2146  0.45  \n",
       "23 STALKING                           228  0.05  \n",
       "24 THEFT                            99252 20.64  \n",
       "25 WEAPONS VIOLATION                 4365  0.91  "
      ]
     },
     "metadata": {},
     "output_type": "display_data"
    }
   ],
   "source": [
    "#sampling de 25%\n",
    "nrow(non_sampled_2001_2004)\n",
    "sample_2001_2004 = non_sampled_2001_2004[seq(1, nrow(non_sampled_2001_2004), 4), ]\n",
    "nrow(sample_2001_2004)\n",
    "\n",
    "\n",
    "#Verificação de percentagens\n",
    "sample_2001_2004_table = lapply(sample_2001_2004[\"Primary_Type\"], table)\n",
    "\n",
    "sampled_crime_types = as.data.frame(sample_2001_2004_table)\n",
    "colnames(sampled_crime_types) = c(\"Type\", \"Freq\")\n",
    "\n",
    "sampled_crime_types = sampled_crime_types %>% \n",
    "  mutate(Type, percent = round((Freq / nrow(sample_2001_2004)) * 100, 2))\n",
    "\n",
    "sampled_crime_types"
   ]
  },
  {
   "cell_type": "code",
   "execution_count": 21,
   "metadata": {},
   "outputs": [
    {
     "data": {
      "text/html": [
       "12.346377091899"
      ],
      "text/latex": [
       "12.346377091899"
      ],
      "text/markdown": [
       "12.346377091899"
      ],
      "text/plain": [
       "[1] 12.34638"
      ]
     },
     "metadata": {},
     "output_type": "display_data"
    },
    {
     "data": {
      "text/html": [
       "12.3661174229426"
      ],
      "text/latex": [
       "12.3661174229426"
      ],
      "text/markdown": [
       "12.3661174229426"
      ],
      "text/plain": [
       "[1] 12.36612"
      ]
     },
     "metadata": {},
     "output_type": "display_data"
    },
    {
     "data": {
      "text/html": [
       "15"
      ],
      "text/latex": [
       "15"
      ],
      "text/markdown": [
       "15"
      ],
      "text/plain": [
       "[1] 15"
      ]
     },
     "metadata": {},
     "output_type": "display_data"
    },
    {
     "data": {
      "text/html": [
       "15"
      ],
      "text/latex": [
       "15"
      ],
      "text/markdown": [
       "15"
      ],
      "text/plain": [
       "[1] 15"
      ]
     },
     "metadata": {},
     "output_type": "display_data"
    },
    {
     "data": {
      "text/html": [
       "8.42331052832414"
      ],
      "text/latex": [
       "8.42331052832414"
      ],
      "text/markdown": [
       "8.42331052832414"
      ],
      "text/plain": [
       "[1] 8.423311"
      ]
     },
     "metadata": {},
     "output_type": "display_data"
    },
    {
     "data": {
      "text/html": [
       "8.42913714705021"
      ],
      "text/latex": [
       "8.42913714705021"
      ],
      "text/markdown": [
       "8.42913714705021"
      ],
      "text/plain": [
       "[1] 8.429137"
      ]
     },
     "metadata": {},
     "output_type": "display_data"
    }
   ],
   "source": [
    "#Transformar valores categóricos de Primary_Type em valores numericos\n",
    "numeric_primary_type_pop1 = unclass(as.factor(non_sampled_2001_2004$Primary_Type))\n",
    "numeric_primary_type_pop2 = unclass(as.factor(sample_2001_2004$Primary_Type))\n",
    "\n",
    "mean(numeric_primary_type_pop1)\n",
    "mean(numeric_primary_type_pop2)\n",
    "\n",
    "median(numeric_primary_type_pop1)\n",
    "median(numeric_primary_type_pop2)\n",
    "\n",
    "sd(numeric_primary_type_pop1)\n",
    "sd(numeric_primary_type_pop2)"
   ]
  },
  {
   "cell_type": "markdown",
   "metadata": {},
   "source": [
    "Comparando as percentagens da amostra e da população é possível perceber que estas são bastante parecidas.\n",
    "\n",
    "Para além disso são verificados outros fatores:\n",
    "* A diferença absoluta das médias dos valores dos crimes é de 0.02\n",
    "* As médias da amostra e da população são iguais (15)\n",
    "* Os desvios padrão dos valores tem uma diferença absoluta de 0.006\n",
    "\n",
    "Verificando que as diferenças entre estes valores são muito baixas ou inexistentes, não há evidência estatistica que contrarie o facto desta amostra ser representativa desta população.\n",
    "\n",
    "O processo de pré-processamento **repete-se** para os restastes três datasets.\n",
    "\n",
    "1. Repetir o processo feito anteriormente\n",
    "2. Juntar as quatro tabelas de cada dataset numa só\n",
    "3. Fazer a tabela de frequencias absolutas e relativas\n",
    "4. Fazer um gráfico que demonstre a percentagem de cada tipo de crime"
   ]
  }
 ],
 "metadata": {
  "kernelspec": {
   "display_name": "R [conda env:VD] *",
   "language": "R",
   "name": "conda-env-VD-r"
  },
  "language_info": {
   "codemirror_mode": "r",
   "file_extension": ".r",
   "mimetype": "text/x-r-source",
   "name": "R",
   "pygments_lexer": "r",
   "version": "3.6.1"
  }
 },
 "nbformat": 4,
 "nbformat_minor": 4
}
