{
 "cells": [
  {
   "cell_type": "code",
   "execution_count": 1,
   "metadata": {},
   "outputs": [
    {
     "name": "stderr",
     "output_type": "stream",
     "text": [
      "Loading required package: data.table\n"
     ]
    }
   ],
   "source": [
    "  require(data.table) #fread\n",
    "  library(readr) #read_csv\n",
    "  library(rstudioapi)"
   ]
  },
  {
   "cell_type": "code",
   "execution_count": 2,
   "metadata": {},
   "outputs": [
    {
     "name": "stderr",
     "output_type": "stream",
     "text": [
      "Warning message:\n",
      "\"Missing column names filled in: 'X1' [1]\"Warning message:\n",
      "\"14 parsing failures.\n",
      "    row      col           expected               actual                                       file\n",
      "1513590 Arrest   1/0/T/F/TRUE/FALSE Location Description 'datasets/Chicago_Crimes_2001_to_2004.csv'\n",
      "1513590 Domestic 1/0/T/F/TRUE/FALSE Arrest               'datasets/Chicago_Crimes_2001_to_2004.csv'\n",
      "1513590 Beat     an integer         Domestic             'datasets/Chicago_Crimes_2001_to_2004.csv'\n",
      "1513590 District a number           Beat                 'datasets/Chicago_Crimes_2001_to_2004.csv'\n",
      "1513590 Ward     a number           District             'datasets/Chicago_Crimes_2001_to_2004.csv'\n",
      "....... ........ .................. .................... ..........................................\n",
      "See problems(...) for more details.\n",
      "\"Warning message:\n",
      "\"Missing column names filled in: 'X1' [1]\"Warning message:\n",
      "\"1 parsing failure.\n",
      "   row      col           expected actual                                       file\n",
      "533718 Location delimiter or quote      ( 'datasets/Chicago_Crimes_2005_to_2007.csv'\n",
      "\"Warning message:\n",
      "\"Missing column names filled in: 'X1' [1]\"Warning message:\n",
      "\"1 parsing failure.\n",
      "    row col   expected     actual                                       file\n",
      "1149093  -- 23 columns 41 columns 'datasets/Chicago_Crimes_2008_to_2011.csv'\n",
      "\"Warning message:\n",
      "\"Missing column names filled in: 'X1' [1]\""
     ]
    }
   ],
   "source": [
    "  \n",
    "  types = \"iic?cccccllinnncnni?nn?\"\n",
    "  \n",
    "  crimes_2001_2004 = read_csv(file = \"datasets/Chicago_Crimes_2001_to_2004.csv\", col_types = types)\n",
    "  crimes_2005_2007 = read_csv(file = \"datasets/Chicago_Crimes_2005_to_2007.csv\", col_types = types)\n",
    "  crimes_2008_2011 = read_csv(file = \"datasets/Chicago_Crimes_2008_to_2011.csv\", col_types = types)\n",
    "  crimes_2012_2017 = read_csv(file = \"datasets/Chicago_Crimes_2012_to_2017.csv\", col_types = types)"
   ]
  }
 ],
 "metadata": {
  "kernelspec": {
   "display_name": "Python 3",
   "language": "python",
   "name": "python3"
  },
  "language_info": {
   "codemirror_mode": {
    "name": "ipython",
    "version": 3
   },
   "file_extension": ".py",
   "mimetype": "text/x-python",
   "name": "python",
   "nbconvert_exporter": "python",
   "pygments_lexer": "ipython3",
   "version": "3.7.4"
  }
 },
 "nbformat": 4,
 "nbformat_minor": 4
}
